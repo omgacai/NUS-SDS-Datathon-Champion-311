{
 "cells": [
  {
   "cell_type": "markdown",
   "id": "9b4d568a",
   "metadata": {},
   "source": [
    "## Import Essential Libraries"
   ]
  },
  {
   "cell_type": "code",
   "execution_count": 1,
   "id": "c5ca6f93",
   "metadata": {},
   "outputs": [],
   "source": [
    "import pandas as pd\n",
    "import numpy as np\n",
    "import sklearn\n",
    "from sklearn.linear_model import LinearRegression\n",
    "from sklearn.metrics import mean_squared_error, r2_score\n",
    "from sklearn.model_selection import train_test_split\n",
    "from scipy import stats\n",
    "import matplotlib.pyplot as plt\n",
    "import seaborn as sb"
   ]
  },
  {
   "cell_type": "code",
   "execution_count": 2,
   "id": "8390a2a4",
   "metadata": {},
   "outputs": [],
   "source": [
    "df= pd.read_csv(\"data/catA_train.csv\")"
   ]
  },
  {
   "cell_type": "markdown",
   "id": "77cacc70",
   "metadata": {},
   "source": [
    "Null Values in each column"
   ]
  },
  {
   "cell_type": "code",
   "execution_count": 3,
   "id": "570890b5",
   "metadata": {},
   "outputs": [
    {
     "data": {
      "text/plain": [
       "LATITUDE                                 120\n",
       "LONGITUDE                                120\n",
       "AccountID                                  0\n",
       "Company                                    0\n",
       "SIC Code                                   0\n",
       "Industry                                   0\n",
       "8-Digit SIC Code                           0\n",
       "8-Digit SIC Description                    0\n",
       "Year Found                               434\n",
       "Entity Type                                0\n",
       "Parent Company                           514\n",
       "Parent Country                           520\n",
       "Ownership Type                             0\n",
       "Company Description                        0\n",
       "Square Footage                         29182\n",
       "Company Status (Active/Inactive)           0\n",
       "Employees (Single Site)                12403\n",
       "Employees (Domestic Ultimate Total)       79\n",
       "Employees (Global Ultimate Total)       2774\n",
       "Sales (Domestic Ultimate Total USD)        0\n",
       "Sales (Global Ultimate Total USD)          0\n",
       "Import/Export Status                   22569\n",
       "Fiscal Year End                        22445\n",
       "Global Ultimate Company                  514\n",
       "Global Ultimate Country                  523\n",
       "Domestic Ultimate Company               1035\n",
       "Is Domestic Ultimate                       0\n",
       "Is Global Ultimate                         0\n",
       "dtype: int64"
      ]
     },
     "execution_count": 3,
     "metadata": {},
     "output_type": "execute_result"
    }
   ],
   "source": [
    "df.isna().sum()"
   ]
  },
  {
   "cell_type": "code",
   "execution_count": 4,
   "id": "0b7a9cac",
   "metadata": {
    "scrolled": true
   },
   "outputs": [
    {
     "name": "stdout",
     "output_type": "stream",
     "text": [
      "<class 'pandas.core.frame.DataFrame'>\n",
      "RangeIndex: 29182 entries, 0 to 29181\n",
      "Data columns (total 28 columns):\n",
      " #   Column                               Non-Null Count  Dtype  \n",
      "---  ------                               --------------  -----  \n",
      " 0   LATITUDE                             29062 non-null  float64\n",
      " 1   LONGITUDE                            29062 non-null  float64\n",
      " 2   AccountID                            29182 non-null  object \n",
      " 3   Company                              29182 non-null  object \n",
      " 4   SIC Code                             29182 non-null  float64\n",
      " 5   Industry                             29182 non-null  object \n",
      " 6   8-Digit SIC Code                     29182 non-null  float64\n",
      " 7   8-Digit SIC Description              29182 non-null  object \n",
      " 8   Year Found                           28748 non-null  float64\n",
      " 9   Entity Type                          29182 non-null  object \n",
      " 10  Parent Company                       28668 non-null  object \n",
      " 11  Parent Country                       28662 non-null  object \n",
      " 12  Ownership Type                       29182 non-null  object \n",
      " 13  Company Description                  29182 non-null  object \n",
      " 14  Square Footage                       0 non-null      float64\n",
      " 15  Company Status (Active/Inactive)     29182 non-null  object \n",
      " 16  Employees (Single Site)              16779 non-null  float64\n",
      " 17  Employees (Domestic Ultimate Total)  29103 non-null  float64\n",
      " 18  Employees (Global Ultimate Total)    26408 non-null  float64\n",
      " 19  Sales (Domestic Ultimate Total USD)  29182 non-null  float64\n",
      " 20  Sales (Global Ultimate Total USD)    29182 non-null  float64\n",
      " 21  Import/Export Status                 6613 non-null   object \n",
      " 22  Fiscal Year End                      6737 non-null   object \n",
      " 23  Global Ultimate Company              28668 non-null  object \n",
      " 24  Global Ultimate Country              28659 non-null  object \n",
      " 25  Domestic Ultimate Company            28147 non-null  object \n",
      " 26  Is Domestic Ultimate                 29182 non-null  float64\n",
      " 27  Is Global Ultimate                   29182 non-null  float64\n",
      "dtypes: float64(13), object(15)\n",
      "memory usage: 6.2+ MB\n"
     ]
    }
   ],
   "source": [
    "df.info()"
   ]
  },
  {
   "cell_type": "code",
   "execution_count": 5,
   "id": "bcff8dda",
   "metadata": {
    "scrolled": true
   },
   "outputs": [
    {
     "name": "stdout",
     "output_type": "stream",
     "text": [
      "29182\n",
      "29182\n",
      "1\n"
     ]
    }
   ],
   "source": [
    "print(len(df[\"AccountID\"].unique()))\n",
    "print(len(df[\"Company\"].unique()))\n",
    "print(len(df[\"Company Status (Active/Inactive)\"].unique()))"
   ]
  },
  {
   "cell_type": "code",
   "execution_count": 6,
   "id": "4a504c84",
   "metadata": {},
   "outputs": [
    {
     "name": "stdout",
     "output_type": "stream",
     "text": [
      "2255\n",
      "2191\n"
     ]
    }
   ],
   "source": [
    "print(len(df[\"8-Digit SIC Code\"].unique()))\n",
    "print(len(df[\"8-Digit SIC Description\"].unique()))"
   ]
  },
  {
   "cell_type": "markdown",
   "id": "3734ad71",
   "metadata": {},
   "source": [
    "As AccountID and Company are both unique, we will drop them.\n",
    "\n",
    "As the Industry column is used to give information about the SIC Code, we will be dropping this column.\n",
    "\n",
    "As the 8 Digit SIC Description is used to give information about the 8 Digit SIC Code, we will be dropping 8 Digit SIC Description column.\n",
    "\n",
    "As company description is a qualitative description of each firm, we will be dropping this column.\n",
    "\n",
    "As square footage has no values, we will be dropping this column.\n",
    "\n",
    "As the values in the Company Status (Active/Inactive) columns are all active and there is only 1 unique value, there is no value add from this column, thus we will drop it.\n",
    "\n",
    "As Employees (Single Site), Import/Export Status and Fiscal Year End has more than half its values missing, we would be dropping these columns."
   ]
  },
  {
   "cell_type": "code",
   "execution_count": 7,
   "id": "20b003c7",
   "metadata": {},
   "outputs": [],
   "source": [
    "df.drop(\"AccountID\",inplace=True, axis=1)\n",
    "df.drop(\"Company\",inplace=True, axis=1)\n",
    "df.drop(\"Industry\",inplace=True, axis=1)\n",
    "df.drop(\"8-Digit SIC Description\",inplace=True, axis=1)\n",
    "df.drop(\"Company Description\",inplace=True, axis=1)\n",
    "df.drop(\"Square Footage\",inplace=True, axis=1)\n",
    "df.drop(\"Company Status (Active/Inactive)\",inplace=True, axis=1)\n",
    "df.drop(\"Employees (Single Site)\",inplace=True, axis=1)\n",
    "df.drop(\"Import/Export Status\",inplace=True, axis=1)\n",
    "df.drop(\"Fiscal Year End\",inplace=True, axis=1)"
   ]
  },
  {
   "cell_type": "code",
   "execution_count": 8,
   "id": "10b15ec7",
   "metadata": {},
   "outputs": [
    {
     "data": {
      "text/html": [
       "<div>\n",
       "<style scoped>\n",
       "    .dataframe tbody tr th:only-of-type {\n",
       "        vertical-align: middle;\n",
       "    }\n",
       "\n",
       "    .dataframe tbody tr th {\n",
       "        vertical-align: top;\n",
       "    }\n",
       "\n",
       "    .dataframe thead th {\n",
       "        text-align: right;\n",
       "    }\n",
       "</style>\n",
       "<table border=\"1\" class=\"dataframe\">\n",
       "  <thead>\n",
       "    <tr style=\"text-align: right;\">\n",
       "      <th></th>\n",
       "      <th>LATITUDE</th>\n",
       "      <th>LONGITUDE</th>\n",
       "      <th>SIC Code</th>\n",
       "      <th>8-Digit SIC Code</th>\n",
       "      <th>Year Found</th>\n",
       "      <th>Entity Type</th>\n",
       "      <th>Parent Company</th>\n",
       "      <th>Parent Country</th>\n",
       "      <th>Ownership Type</th>\n",
       "      <th>Employees (Domestic Ultimate Total)</th>\n",
       "      <th>Employees (Global Ultimate Total)</th>\n",
       "      <th>Sales (Domestic Ultimate Total USD)</th>\n",
       "      <th>Sales (Global Ultimate Total USD)</th>\n",
       "      <th>Global Ultimate Company</th>\n",
       "      <th>Global Ultimate Country</th>\n",
       "      <th>Domestic Ultimate Company</th>\n",
       "      <th>Is Domestic Ultimate</th>\n",
       "      <th>Is Global Ultimate</th>\n",
       "    </tr>\n",
       "  </thead>\n",
       "  <tbody>\n",
       "    <tr>\n",
       "      <th>0</th>\n",
       "      <td>1.285495</td>\n",
       "      <td>103.843852</td>\n",
       "      <td>7361.0</td>\n",
       "      <td>73610000.0</td>\n",
       "      <td>2020.0</td>\n",
       "      <td>Subsidiary</td>\n",
       "      <td>FRANK RECRUITMENT GROUP PRIVATE LTD.</td>\n",
       "      <td>Singapore</td>\n",
       "      <td>Private</td>\n",
       "      <td>25.0</td>\n",
       "      <td>NaN</td>\n",
       "      <td>2.209224e+06</td>\n",
       "      <td>4.637871e+06</td>\n",
       "      <td>FINDERS HOLDCO LIMITED</td>\n",
       "      <td>United Kingdom</td>\n",
       "      <td>FRANK RECRUITMENT GROUP PRIVATE LTD.</td>\n",
       "      <td>0.0</td>\n",
       "      <td>0.0</td>\n",
       "    </tr>\n",
       "    <tr>\n",
       "      <th>1</th>\n",
       "      <td>1.291294</td>\n",
       "      <td>103.827476</td>\n",
       "      <td>4449.0</td>\n",
       "      <td>44490000.0</td>\n",
       "      <td>2015.0</td>\n",
       "      <td>Subsidiary</td>\n",
       "      <td>FORTITUDE SHIPPING PTE. LTD.</td>\n",
       "      <td>Singapore</td>\n",
       "      <td>Private</td>\n",
       "      <td>100.0</td>\n",
       "      <td>100.0</td>\n",
       "      <td>7.093536e+09</td>\n",
       "      <td>7.093536e+09</td>\n",
       "      <td>PETREDEC PTE. LIMITED</td>\n",
       "      <td>Singapore</td>\n",
       "      <td>NaN</td>\n",
       "      <td>0.0</td>\n",
       "      <td>0.0</td>\n",
       "    </tr>\n",
       "    <tr>\n",
       "      <th>2</th>\n",
       "      <td>1.300144</td>\n",
       "      <td>103.857517</td>\n",
       "      <td>6719.0</td>\n",
       "      <td>67190000.0</td>\n",
       "      <td>1993.0</td>\n",
       "      <td>Subsidiary</td>\n",
       "      <td>MADISON LIGHTERS AND WATCHES CO LTD</td>\n",
       "      <td>Hong Kong SAR</td>\n",
       "      <td>Private</td>\n",
       "      <td>4.0</td>\n",
       "      <td>4.0</td>\n",
       "      <td>1.026308e+06</td>\n",
       "      <td>1.026308e+06</td>\n",
       "      <td>MADISON LIGHTERS AND WATCHES CO LTD</td>\n",
       "      <td>Hong Kong SAR</td>\n",
       "      <td>2MBAO BIOCELLBANK PTE. LTD.</td>\n",
       "      <td>1.0</td>\n",
       "      <td>0.0</td>\n",
       "    </tr>\n",
       "    <tr>\n",
       "      <th>3</th>\n",
       "      <td>1.300785</td>\n",
       "      <td>103.791263</td>\n",
       "      <td>6719.0</td>\n",
       "      <td>67190000.0</td>\n",
       "      <td>2006.0</td>\n",
       "      <td>Subsidiary</td>\n",
       "      <td>WILMAR INTERNATIONAL LIMITED</td>\n",
       "      <td>Singapore</td>\n",
       "      <td>Private</td>\n",
       "      <td>100.0</td>\n",
       "      <td>100.0</td>\n",
       "      <td>7.339898e+10</td>\n",
       "      <td>7.339898e+10</td>\n",
       "      <td>WILMAR INTERNATIONAL LIMITED</td>\n",
       "      <td>Singapore</td>\n",
       "      <td>WILMAR INTERNATIONAL LIMITED</td>\n",
       "      <td>0.0</td>\n",
       "      <td>0.0</td>\n",
       "    </tr>\n",
       "    <tr>\n",
       "      <th>4</th>\n",
       "      <td>1.298759</td>\n",
       "      <td>103.859430</td>\n",
       "      <td>6719.0</td>\n",
       "      <td>67190000.0</td>\n",
       "      <td>2006.0</td>\n",
       "      <td>Parent</td>\n",
       "      <td>ASIA GREEN CAPITAL PTE. LTD.</td>\n",
       "      <td>Singapore</td>\n",
       "      <td>Private</td>\n",
       "      <td>4.0</td>\n",
       "      <td>4.0</td>\n",
       "      <td>4.322130e+05</td>\n",
       "      <td>4.322130e+05</td>\n",
       "      <td>ASIA GREEN CAPITAL PTE. LTD.</td>\n",
       "      <td>Singapore</td>\n",
       "      <td>ASIA GREEN CAPITAL PTE. LTD.</td>\n",
       "      <td>1.0</td>\n",
       "      <td>1.0</td>\n",
       "    </tr>\n",
       "    <tr>\n",
       "      <th>...</th>\n",
       "      <td>...</td>\n",
       "      <td>...</td>\n",
       "      <td>...</td>\n",
       "      <td>...</td>\n",
       "      <td>...</td>\n",
       "      <td>...</td>\n",
       "      <td>...</td>\n",
       "      <td>...</td>\n",
       "      <td>...</td>\n",
       "      <td>...</td>\n",
       "      <td>...</td>\n",
       "      <td>...</td>\n",
       "      <td>...</td>\n",
       "      <td>...</td>\n",
       "      <td>...</td>\n",
       "      <td>...</td>\n",
       "      <td>...</td>\n",
       "      <td>...</td>\n",
       "    </tr>\n",
       "    <tr>\n",
       "      <th>29177</th>\n",
       "      <td>1.355309</td>\n",
       "      <td>103.887857</td>\n",
       "      <td>6719.0</td>\n",
       "      <td>67199901.0</td>\n",
       "      <td>2009.0</td>\n",
       "      <td>Subsidiary</td>\n",
       "      <td>SENDA INTERNATIONAL CAPITAL LIMITED</td>\n",
       "      <td>Hong Kong SAR</td>\n",
       "      <td>Private</td>\n",
       "      <td>50.0</td>\n",
       "      <td>6615.0</td>\n",
       "      <td>2.949122e+06</td>\n",
       "      <td>2.943975e+09</td>\n",
       "      <td>Zhejiang Longsheng Group Co., Ltd.</td>\n",
       "      <td>China</td>\n",
       "      <td>DYSTAR GLOBAL HOLDINGS (SINGAPORE) PTE. LTD.</td>\n",
       "      <td>1.0</td>\n",
       "      <td>0.0</td>\n",
       "    </tr>\n",
       "    <tr>\n",
       "      <th>29178</th>\n",
       "      <td>1.319605</td>\n",
       "      <td>103.898298</td>\n",
       "      <td>6719.0</td>\n",
       "      <td>67190000.0</td>\n",
       "      <td>NaN</td>\n",
       "      <td>Independent</td>\n",
       "      <td>NaN</td>\n",
       "      <td>NaN</td>\n",
       "      <td>Private</td>\n",
       "      <td>4.0</td>\n",
       "      <td>4.0</td>\n",
       "      <td>1.026308e+06</td>\n",
       "      <td>1.026308e+06</td>\n",
       "      <td>NaN</td>\n",
       "      <td>NaN</td>\n",
       "      <td>NaN</td>\n",
       "      <td>0.0</td>\n",
       "      <td>0.0</td>\n",
       "    </tr>\n",
       "    <tr>\n",
       "      <th>29179</th>\n",
       "      <td>1.316363</td>\n",
       "      <td>103.924303</td>\n",
       "      <td>6726.0</td>\n",
       "      <td>67269905.0</td>\n",
       "      <td>1991.0</td>\n",
       "      <td>Subsidiary</td>\n",
       "      <td>ABRDN HOLDINGS LIMITED</td>\n",
       "      <td>United Kingdom</td>\n",
       "      <td>Public</td>\n",
       "      <td>5.0</td>\n",
       "      <td>NaN</td>\n",
       "      <td>2.289731e+08</td>\n",
       "      <td>4.114318e+08</td>\n",
       "      <td>ABRDN HOLDINGS LIMITED</td>\n",
       "      <td>United Kingdom</td>\n",
       "      <td>ABRDN ASIA LIMITED</td>\n",
       "      <td>1.0</td>\n",
       "      <td>0.0</td>\n",
       "    </tr>\n",
       "    <tr>\n",
       "      <th>29180</th>\n",
       "      <td>1.295595</td>\n",
       "      <td>103.858968</td>\n",
       "      <td>6719.0</td>\n",
       "      <td>67190000.0</td>\n",
       "      <td>2018.0</td>\n",
       "      <td>Subsidiary</td>\n",
       "      <td>ENCYCLIA 1 INVESTMENTS PTE. LTD.</td>\n",
       "      <td>Singapore</td>\n",
       "      <td>Private</td>\n",
       "      <td>4.0</td>\n",
       "      <td>4.0</td>\n",
       "      <td>1.026308e+06</td>\n",
       "      <td>1.026308e+06</td>\n",
       "      <td>65EP INVESTMENT I PTE. LTD.</td>\n",
       "      <td>Singapore</td>\n",
       "      <td>65EP INVESTMENT I PTE. LTD.</td>\n",
       "      <td>0.0</td>\n",
       "      <td>0.0</td>\n",
       "    </tr>\n",
       "    <tr>\n",
       "      <th>29181</th>\n",
       "      <td>1.311769</td>\n",
       "      <td>103.801710</td>\n",
       "      <td>5099.0</td>\n",
       "      <td>50990000.0</td>\n",
       "      <td>2018.0</td>\n",
       "      <td>Subsidiary</td>\n",
       "      <td>TRUSSCO HOLDINGS PTE. LTD.</td>\n",
       "      <td>Singapore</td>\n",
       "      <td>Private</td>\n",
       "      <td>4.0</td>\n",
       "      <td>4.0</td>\n",
       "      <td>1.026308e+06</td>\n",
       "      <td>1.026308e+06</td>\n",
       "      <td>TRUSSCO HOLDINGS PTE. LTD.</td>\n",
       "      <td>Singapore</td>\n",
       "      <td>TRUSSCO HOLDINGS PTE. LTD.</td>\n",
       "      <td>0.0</td>\n",
       "      <td>0.0</td>\n",
       "    </tr>\n",
       "  </tbody>\n",
       "</table>\n",
       "<p>29182 rows × 18 columns</p>\n",
       "</div>"
      ],
      "text/plain": [
       "       LATITUDE   LONGITUDE  SIC Code  8-Digit SIC Code  Year Found  \\\n",
       "0      1.285495  103.843852    7361.0        73610000.0      2020.0   \n",
       "1      1.291294  103.827476    4449.0        44490000.0      2015.0   \n",
       "2      1.300144  103.857517    6719.0        67190000.0      1993.0   \n",
       "3      1.300785  103.791263    6719.0        67190000.0      2006.0   \n",
       "4      1.298759  103.859430    6719.0        67190000.0      2006.0   \n",
       "...         ...         ...       ...               ...         ...   \n",
       "29177  1.355309  103.887857    6719.0        67199901.0      2009.0   \n",
       "29178  1.319605  103.898298    6719.0        67190000.0         NaN   \n",
       "29179  1.316363  103.924303    6726.0        67269905.0      1991.0   \n",
       "29180  1.295595  103.858968    6719.0        67190000.0      2018.0   \n",
       "29181  1.311769  103.801710    5099.0        50990000.0      2018.0   \n",
       "\n",
       "       Entity Type                        Parent Company  Parent Country  \\\n",
       "0       Subsidiary  FRANK RECRUITMENT GROUP PRIVATE LTD.       Singapore   \n",
       "1       Subsidiary          FORTITUDE SHIPPING PTE. LTD.       Singapore   \n",
       "2       Subsidiary   MADISON LIGHTERS AND WATCHES CO LTD   Hong Kong SAR   \n",
       "3       Subsidiary          WILMAR INTERNATIONAL LIMITED       Singapore   \n",
       "4           Parent          ASIA GREEN CAPITAL PTE. LTD.       Singapore   \n",
       "...            ...                                   ...             ...   \n",
       "29177   Subsidiary   SENDA INTERNATIONAL CAPITAL LIMITED   Hong Kong SAR   \n",
       "29178  Independent                                   NaN             NaN   \n",
       "29179   Subsidiary                ABRDN HOLDINGS LIMITED  United Kingdom   \n",
       "29180   Subsidiary      ENCYCLIA 1 INVESTMENTS PTE. LTD.       Singapore   \n",
       "29181   Subsidiary            TRUSSCO HOLDINGS PTE. LTD.       Singapore   \n",
       "\n",
       "      Ownership Type  Employees (Domestic Ultimate Total)  \\\n",
       "0            Private                                 25.0   \n",
       "1            Private                                100.0   \n",
       "2            Private                                  4.0   \n",
       "3            Private                                100.0   \n",
       "4            Private                                  4.0   \n",
       "...              ...                                  ...   \n",
       "29177        Private                                 50.0   \n",
       "29178        Private                                  4.0   \n",
       "29179         Public                                  5.0   \n",
       "29180        Private                                  4.0   \n",
       "29181        Private                                  4.0   \n",
       "\n",
       "       Employees (Global Ultimate Total)  Sales (Domestic Ultimate Total USD)  \\\n",
       "0                                    NaN                         2.209224e+06   \n",
       "1                                  100.0                         7.093536e+09   \n",
       "2                                    4.0                         1.026308e+06   \n",
       "3                                  100.0                         7.339898e+10   \n",
       "4                                    4.0                         4.322130e+05   \n",
       "...                                  ...                                  ...   \n",
       "29177                             6615.0                         2.949122e+06   \n",
       "29178                                4.0                         1.026308e+06   \n",
       "29179                                NaN                         2.289731e+08   \n",
       "29180                                4.0                         1.026308e+06   \n",
       "29181                                4.0                         1.026308e+06   \n",
       "\n",
       "       Sales (Global Ultimate Total USD)              Global Ultimate Company  \\\n",
       "0                           4.637871e+06               FINDERS HOLDCO LIMITED   \n",
       "1                           7.093536e+09                PETREDEC PTE. LIMITED   \n",
       "2                           1.026308e+06  MADISON LIGHTERS AND WATCHES CO LTD   \n",
       "3                           7.339898e+10         WILMAR INTERNATIONAL LIMITED   \n",
       "4                           4.322130e+05         ASIA GREEN CAPITAL PTE. LTD.   \n",
       "...                                  ...                                  ...   \n",
       "29177                       2.943975e+09   Zhejiang Longsheng Group Co., Ltd.   \n",
       "29178                       1.026308e+06                                  NaN   \n",
       "29179                       4.114318e+08               ABRDN HOLDINGS LIMITED   \n",
       "29180                       1.026308e+06          65EP INVESTMENT I PTE. LTD.   \n",
       "29181                       1.026308e+06           TRUSSCO HOLDINGS PTE. LTD.   \n",
       "\n",
       "      Global Ultimate Country                     Domestic Ultimate Company  \\\n",
       "0              United Kingdom          FRANK RECRUITMENT GROUP PRIVATE LTD.   \n",
       "1                   Singapore                                           NaN   \n",
       "2               Hong Kong SAR                   2MBAO BIOCELLBANK PTE. LTD.   \n",
       "3                   Singapore                  WILMAR INTERNATIONAL LIMITED   \n",
       "4                   Singapore                  ASIA GREEN CAPITAL PTE. LTD.   \n",
       "...                       ...                                           ...   \n",
       "29177                   China  DYSTAR GLOBAL HOLDINGS (SINGAPORE) PTE. LTD.   \n",
       "29178                     NaN                                           NaN   \n",
       "29179          United Kingdom                            ABRDN ASIA LIMITED   \n",
       "29180               Singapore                   65EP INVESTMENT I PTE. LTD.   \n",
       "29181               Singapore                    TRUSSCO HOLDINGS PTE. LTD.   \n",
       "\n",
       "       Is Domestic Ultimate  Is Global Ultimate  \n",
       "0                       0.0                 0.0  \n",
       "1                       0.0                 0.0  \n",
       "2                       1.0                 0.0  \n",
       "3                       0.0                 0.0  \n",
       "4                       1.0                 1.0  \n",
       "...                     ...                 ...  \n",
       "29177                   1.0                 0.0  \n",
       "29178                   0.0                 0.0  \n",
       "29179                   1.0                 0.0  \n",
       "29180                   0.0                 0.0  \n",
       "29181                   0.0                 0.0  \n",
       "\n",
       "[29182 rows x 18 columns]"
      ]
     },
     "execution_count": 8,
     "metadata": {},
     "output_type": "execute_result"
    }
   ],
   "source": [
    "df"
   ]
  },
  {
   "cell_type": "code",
   "execution_count": 9,
   "id": "e7b2a564",
   "metadata": {},
   "outputs": [],
   "source": [
    "df[\"SIC Code\"] = df[\"SIC Code\"].astype('category')\n",
    "df[\"8-Digit SIC Code\"] = df[\"8-Digit SIC Code\"].astype('category')\n",
    "df[\"Year Found\"] = df[\"Year Found\"].astype('float64')\n",
    "df[\"Entity Type\"] = df[\"Entity Type\"].astype('category')\n",
    "df[\"Parent Company\"] = df[\"Parent Company\"].astype('category')\n",
    "df[\"Parent Country\"] = df[\"Parent Country\"].astype('category')\n",
    "df[\"Ownership Type\"] = df[\"Ownership Type\"].astype('category')\n",
    "df[\"Global Ultimate Company\"] = df[\"Global Ultimate Company\"].astype('category')\n",
    "df[\"Global Ultimate Country\"] = df[\"Global Ultimate Country\"].astype('category')\n",
    "df[\"Domestic Ultimate Company\"] = df[\"Domestic Ultimate Company\"].astype('category')\n",
    "df[\"Is Domestic Ultimate\"] = df[\"Is Domestic Ultimate\"].astype('category')\n",
    "df[\"Is Global Ultimate\"] = df[\"Is Global Ultimate\"].astype('category')"
   ]
  },
  {
   "cell_type": "code",
   "execution_count": 10,
   "id": "582942bd",
   "metadata": {
    "scrolled": true
   },
   "outputs": [
    {
     "name": "stdout",
     "output_type": "stream",
     "text": [
      "<class 'pandas.core.frame.DataFrame'>\n",
      "RangeIndex: 29182 entries, 0 to 29181\n",
      "Data columns (total 18 columns):\n",
      " #   Column                               Non-Null Count  Dtype   \n",
      "---  ------                               --------------  -----   \n",
      " 0   LATITUDE                             29062 non-null  float64 \n",
      " 1   LONGITUDE                            29062 non-null  float64 \n",
      " 2   SIC Code                             29182 non-null  category\n",
      " 3   8-Digit SIC Code                     29182 non-null  category\n",
      " 4   Year Found                           28748 non-null  float64 \n",
      " 5   Entity Type                          29182 non-null  category\n",
      " 6   Parent Company                       28668 non-null  category\n",
      " 7   Parent Country                       28662 non-null  category\n",
      " 8   Ownership Type                       29182 non-null  category\n",
      " 9   Employees (Domestic Ultimate Total)  29103 non-null  float64 \n",
      " 10  Employees (Global Ultimate Total)    26408 non-null  float64 \n",
      " 11  Sales (Domestic Ultimate Total USD)  29182 non-null  float64 \n",
      " 12  Sales (Global Ultimate Total USD)    29182 non-null  float64 \n",
      " 13  Global Ultimate Company              28668 non-null  category\n",
      " 14  Global Ultimate Country              28659 non-null  category\n",
      " 15  Domestic Ultimate Company            28147 non-null  category\n",
      " 16  Is Domestic Ultimate                 29182 non-null  category\n",
      " 17  Is Global Ultimate                   29182 non-null  category\n",
      "dtypes: category(11), float64(7)\n",
      "memory usage: 4.0 MB\n"
     ]
    }
   ],
   "source": [
    "df.info()"
   ]
  },
  {
   "cell_type": "code",
   "execution_count": 11,
   "id": "4157b1c6",
   "metadata": {
    "scrolled": true
   },
   "outputs": [
    {
     "name": "stdout",
     "output_type": "stream",
     "text": [
      "<class 'pandas.core.frame.DataFrame'>\n",
      "Index: 28080 entries, 0 to 29181\n",
      "Data columns (total 18 columns):\n",
      " #   Column                               Non-Null Count  Dtype   \n",
      "---  ------                               --------------  -----   \n",
      " 0   LATITUDE                             28080 non-null  float64 \n",
      " 1   LONGITUDE                            28080 non-null  float64 \n",
      " 2   SIC Code                             28080 non-null  category\n",
      " 3   8-Digit SIC Code                     28080 non-null  category\n",
      " 4   Year Found                           28080 non-null  float64 \n",
      " 5   Entity Type                          28080 non-null  category\n",
      " 6   Parent Company                       28080 non-null  category\n",
      " 7   Parent Country                       28080 non-null  category\n",
      " 8   Ownership Type                       28080 non-null  category\n",
      " 9   Employees (Domestic Ultimate Total)  28080 non-null  float64 \n",
      " 10  Employees (Global Ultimate Total)    28080 non-null  float64 \n",
      " 11  Sales (Domestic Ultimate Total USD)  28080 non-null  float64 \n",
      " 12  Sales (Global Ultimate Total USD)    28080 non-null  float64 \n",
      " 13  Global Ultimate Company              28080 non-null  category\n",
      " 14  Global Ultimate Country              28080 non-null  category\n",
      " 15  Domestic Ultimate Company            28080 non-null  category\n",
      " 16  Is Domestic Ultimate                 28080 non-null  category\n",
      " 17  Is Global Ultimate                   28080 non-null  category\n",
      "dtypes: category(11), float64(7)\n",
      "memory usage: 4.1 MB\n"
     ]
    }
   ],
   "source": [
    "df[\"Employees (Domestic Ultimate Total)\"].fillna(df[\"Employees (Domestic Ultimate Total)\"].median(), inplace=True)\n",
    "df[\"Employees (Global Ultimate Total)\"].fillna(df[\"Employees (Global Ultimate Total)\"].median(), inplace=True)\n",
    "df[\"LATITUDE\"].fillna(df[\"LATITUDE\"].median(), inplace=True)\n",
    "df[\"LONGITUDE\"].fillna(df[\"LONGITUDE\"].median(), inplace=True)\n",
    "df[\"Year Found\"].fillna(df[\"Year Found\"].median(), inplace=True)\n",
    "df= df.dropna()\n",
    "df.info()"
   ]
  },
  {
   "cell_type": "markdown",
   "id": "ff95a573",
   "metadata": {},
   "source": [
    "## Data Exploration"
   ]
  },
  {
   "cell_type": "code",
   "execution_count": 12,
   "id": "0fc67875",
   "metadata": {
    "scrolled": false
   },
   "outputs": [
    {
     "data": {
      "text/plain": [
       "count    2.808000e+04\n",
       "mean     7.710287e+08\n",
       "std      1.039157e+10\n",
       "min     -1.502631e+08\n",
       "25%      1.026308e+06\n",
       "50%      2.677662e+06\n",
       "75%      2.165912e+07\n",
       "max      3.184764e+11\n",
       "Name: Sales (Domestic Ultimate Total USD), dtype: float64"
      ]
     },
     "execution_count": 12,
     "metadata": {},
     "output_type": "execute_result"
    }
   ],
   "source": [
    "df[\"Sales (Domestic Ultimate Total USD)\"].describe()"
   ]
  },
  {
   "cell_type": "markdown",
   "id": "f4adf922",
   "metadata": {},
   "source": [
    "## Linear Regression"
   ]
  },
  {
   "cell_type": "code",
   "execution_count": 68,
   "id": "a48280d5",
   "metadata": {},
   "outputs": [],
   "source": [
    "numerical_df = df.select_dtypes(include='float64')"
   ]
  },
  {
   "cell_type": "code",
   "execution_count": 89,
   "id": "3595991e",
   "metadata": {},
   "outputs": [],
   "source": [
    "filtered_df = numerical_df[numerical_df['Sales (Domestic Ultimate Total USD)'] <= 2.165912e+07]"
   ]
  },
  {
   "cell_type": "code",
   "execution_count": 105,
   "id": "1d4f87e3",
   "metadata": {},
   "outputs": [],
   "source": [
    "X = filtered_df.drop('Sales (Domestic Ultimate Total USD)', axis=1)\n",
    "X= X.drop('LATITUDE', axis=1)\n",
    "X= X.drop('LONGITUDE', axis=1)\n",
    "y = filtered_df['Sales (Domestic Ultimate Total USD)']"
   ]
  },
  {
   "cell_type": "code",
   "execution_count": 106,
   "id": "2df33326",
   "metadata": {},
   "outputs": [
    {
     "data": {
      "text/html": [
       "<div>\n",
       "<style scoped>\n",
       "    .dataframe tbody tr th:only-of-type {\n",
       "        vertical-align: middle;\n",
       "    }\n",
       "\n",
       "    .dataframe tbody tr th {\n",
       "        vertical-align: top;\n",
       "    }\n",
       "\n",
       "    .dataframe thead th {\n",
       "        text-align: right;\n",
       "    }\n",
       "</style>\n",
       "<table border=\"1\" class=\"dataframe\">\n",
       "  <thead>\n",
       "    <tr style=\"text-align: right;\">\n",
       "      <th></th>\n",
       "      <th>Year Found</th>\n",
       "      <th>Employees (Domestic Ultimate Total)</th>\n",
       "      <th>Employees (Global Ultimate Total)</th>\n",
       "      <th>Sales (Global Ultimate Total USD)</th>\n",
       "    </tr>\n",
       "  </thead>\n",
       "  <tbody>\n",
       "    <tr>\n",
       "      <th>0</th>\n",
       "      <td>2020.0</td>\n",
       "      <td>25.0</td>\n",
       "      <td>15.0</td>\n",
       "      <td>4.637871e+06</td>\n",
       "    </tr>\n",
       "    <tr>\n",
       "      <th>2</th>\n",
       "      <td>1993.0</td>\n",
       "      <td>4.0</td>\n",
       "      <td>4.0</td>\n",
       "      <td>1.026308e+06</td>\n",
       "    </tr>\n",
       "    <tr>\n",
       "      <th>4</th>\n",
       "      <td>2006.0</td>\n",
       "      <td>4.0</td>\n",
       "      <td>4.0</td>\n",
       "      <td>4.322130e+05</td>\n",
       "    </tr>\n",
       "    <tr>\n",
       "      <th>5</th>\n",
       "      <td>1986.0</td>\n",
       "      <td>4.0</td>\n",
       "      <td>4.0</td>\n",
       "      <td>1.026308e+06</td>\n",
       "    </tr>\n",
       "    <tr>\n",
       "      <th>8</th>\n",
       "      <td>2013.0</td>\n",
       "      <td>15.0</td>\n",
       "      <td>15.0</td>\n",
       "      <td>6.725700e+09</td>\n",
       "    </tr>\n",
       "    <tr>\n",
       "      <th>...</th>\n",
       "      <td>...</td>\n",
       "      <td>...</td>\n",
       "      <td>...</td>\n",
       "      <td>...</td>\n",
       "    </tr>\n",
       "    <tr>\n",
       "      <th>29175</th>\n",
       "      <td>2009.0</td>\n",
       "      <td>10.0</td>\n",
       "      <td>10.0</td>\n",
       "      <td>4.404600e+05</td>\n",
       "    </tr>\n",
       "    <tr>\n",
       "      <th>29176</th>\n",
       "      <td>1996.0</td>\n",
       "      <td>100.0</td>\n",
       "      <td>4556.0</td>\n",
       "      <td>1.402050e+09</td>\n",
       "    </tr>\n",
       "    <tr>\n",
       "      <th>29177</th>\n",
       "      <td>2009.0</td>\n",
       "      <td>50.0</td>\n",
       "      <td>6615.0</td>\n",
       "      <td>2.943975e+09</td>\n",
       "    </tr>\n",
       "    <tr>\n",
       "      <th>29180</th>\n",
       "      <td>2018.0</td>\n",
       "      <td>4.0</td>\n",
       "      <td>4.0</td>\n",
       "      <td>1.026308e+06</td>\n",
       "    </tr>\n",
       "    <tr>\n",
       "      <th>29181</th>\n",
       "      <td>2018.0</td>\n",
       "      <td>4.0</td>\n",
       "      <td>4.0</td>\n",
       "      <td>1.026308e+06</td>\n",
       "    </tr>\n",
       "  </tbody>\n",
       "</table>\n",
       "<p>21055 rows × 4 columns</p>\n",
       "</div>"
      ],
      "text/plain": [
       "       Year Found  Employees (Domestic Ultimate Total)  \\\n",
       "0          2020.0                                 25.0   \n",
       "2          1993.0                                  4.0   \n",
       "4          2006.0                                  4.0   \n",
       "5          1986.0                                  4.0   \n",
       "8          2013.0                                 15.0   \n",
       "...           ...                                  ...   \n",
       "29175      2009.0                                 10.0   \n",
       "29176      1996.0                                100.0   \n",
       "29177      2009.0                                 50.0   \n",
       "29180      2018.0                                  4.0   \n",
       "29181      2018.0                                  4.0   \n",
       "\n",
       "       Employees (Global Ultimate Total)  Sales (Global Ultimate Total USD)  \n",
       "0                                   15.0                       4.637871e+06  \n",
       "2                                    4.0                       1.026308e+06  \n",
       "4                                    4.0                       4.322130e+05  \n",
       "5                                    4.0                       1.026308e+06  \n",
       "8                                   15.0                       6.725700e+09  \n",
       "...                                  ...                                ...  \n",
       "29175                               10.0                       4.404600e+05  \n",
       "29176                             4556.0                       1.402050e+09  \n",
       "29177                             6615.0                       2.943975e+09  \n",
       "29180                                4.0                       1.026308e+06  \n",
       "29181                                4.0                       1.026308e+06  \n",
       "\n",
       "[21055 rows x 4 columns]"
      ]
     },
     "execution_count": 106,
     "metadata": {},
     "output_type": "execute_result"
    }
   ],
   "source": [
    "X"
   ]
  },
  {
   "cell_type": "code",
   "execution_count": 107,
   "id": "e8264e83",
   "metadata": {},
   "outputs": [],
   "source": [
    "X_train, X_test, y_train, y_test = train_test_split(X,y, \n",
    "                                   random_state=100,  \n",
    "                                   test_size=0.25,  \n",
    "                                   shuffle=True) "
   ]
  },
  {
   "cell_type": "code",
   "execution_count": 108,
   "id": "b676a1d3",
   "metadata": {},
   "outputs": [],
   "source": [
    "model = LinearRegression()\n",
    "model.fit(X_train, y_train)\n",
    "y_pred = model.predict(X_test)"
   ]
  },
  {
   "cell_type": "code",
   "execution_count": 109,
   "id": "249f60b1",
   "metadata": {},
   "outputs": [
    {
     "name": "stdout",
     "output_type": "stream",
     "text": [
      "Mean Squared Error: 23040556716160.137\n"
     ]
    }
   ],
   "source": [
    "mse = mean_squared_error(y_test, y_pred)\n",
    "print(f'Mean Squared Error: {mse}')"
   ]
  },
  {
   "cell_type": "code",
   "execution_count": 110,
   "id": "8396bc07",
   "metadata": {
    "scrolled": true
   },
   "outputs": [
    {
     "data": {
      "image/png": "[encoded data removed]",
      "text/plain": [
       "<Figure size 640x480 with 1 Axes>"
      ]
     },
     "metadata": {},
     "output_type": "display_data"
    }
   ],
   "source": [
    "import matplotlib.pyplot as plt\n",
    "\n",
    "plt.scatter(y_test, y_pred)\n",
    "plt.xlabel('Actual Values')\n",
    "plt.ylabel('Predicted Values')\n",
    "plt.title('Actual vs. Predicted Values')\n",
    "plt.show()"
   ]
  },
  {
   "cell_type": "code",
   "execution_count": 55,
   "id": "a6fe0319",
   "metadata": {},
   "outputs": [],
   "source": []
  },
  {
   "cell_type": "code",
   "execution_count": null,
   "id": "9fc8cbe9",
   "metadata": {},
   "outputs": [],
   "source": []
  },
  {
   "cell_type": "code",
   "execution_count": 13,
   "id": "1b3d0ad3",
   "metadata": {},
   "outputs": [
    {
     "data": {
      "text/plain": [
       "['Entity Type', 'Ownership Type', 'Is Domestic Ultimate', 'Is Global Ultimate']"
      ]
     },
     "execution_count": 13,
     "metadata": {},
     "output_type": "execute_result"
    }
   ],
   "source": [
    "x_var = [x for x in df.columns if len(df[x].unique())<25]\n",
    "x_var"
   ]
  },
  {
   "cell_type": "code",
   "execution_count": 14,
   "id": "921e0427",
   "metadata": {},
   "outputs": [],
   "source": [
    "y = pd.DataFrame(df[\"Sales (Domestic Ultimate Total USD)\"])\n",
    "X = pd.DataFrame(df[['Entity Type', 'Ownership Type', 'Is Domestic Ultimate', 'Is Global Ultimate']])"
   ]
  },
  {
   "cell_type": "code",
   "execution_count": 15,
   "id": "eb292c08",
   "metadata": {
    "scrolled": false
   },
   "outputs": [
    {
     "name": "stdout",
     "output_type": "stream",
     "text": [
      "<class 'pandas.core.frame.DataFrame'>\n",
      "Index: 28080 entries, 0 to 29181\n",
      "Data columns (total 10 columns):\n",
      " #   Column                        Non-Null Count  Dtype\n",
      "---  ------                        --------------  -----\n",
      " 0   Entity Type_Independent       28080 non-null  uint8\n",
      " 1   Entity Type_Parent            28080 non-null  uint8\n",
      " 2   Entity Type_Subsidiary        28080 non-null  uint8\n",
      " 3   Ownership Type_Nonprofit      28080 non-null  uint8\n",
      " 4   Ownership Type_Partnership    28080 non-null  uint8\n",
      " 5   Ownership Type_Private        28080 non-null  uint8\n",
      " 6   Ownership Type_Public         28080 non-null  uint8\n",
      " 7   Ownership Type_Public Sector  28080 non-null  uint8\n",
      " 8   Is Domestic Ultimate_1.0      28080 non-null  uint8\n",
      " 9   Is Global Ultimate_1.0        28080 non-null  uint8\n",
      "dtypes: uint8(10)\n",
      "memory usage: 493.6 KB\n",
      "None\n"
     ]
    }
   ],
   "source": [
    "X = pd.get_dummies(df[['Entity Type', 'Ownership Type', 'Is Domestic Ultimate', 'Is Global Ultimate']],drop_first=True, dtype= 'uint8')\n",
    "print(X.info())"
   ]
  },
  {
   "cell_type": "code",
   "execution_count": 16,
   "id": "feebafc7",
   "metadata": {
    "scrolled": true
   },
   "outputs": [
    {
     "data": {
      "text/html": [
       "<div>\n",
       "<style scoped>\n",
       "    .dataframe tbody tr th:only-of-type {\n",
       "        vertical-align: middle;\n",
       "    }\n",
       "\n",
       "    .dataframe tbody tr th {\n",
       "        vertical-align: top;\n",
       "    }\n",
       "\n",
       "    .dataframe thead th {\n",
       "        text-align: right;\n",
       "    }\n",
       "</style>\n",
       "<table border=\"1\" class=\"dataframe\">\n",
       "  <thead>\n",
       "    <tr style=\"text-align: right;\">\n",
       "      <th></th>\n",
       "      <th>Entity Type_Independent</th>\n",
       "      <th>Entity Type_Parent</th>\n",
       "      <th>Entity Type_Subsidiary</th>\n",
       "      <th>Ownership Type_Nonprofit</th>\n",
       "      <th>Ownership Type_Partnership</th>\n",
       "      <th>Ownership Type_Private</th>\n",
       "      <th>Ownership Type_Public</th>\n",
       "      <th>Ownership Type_Public Sector</th>\n",
       "      <th>Is Domestic Ultimate_1.0</th>\n",
       "      <th>Is Global Ultimate_1.0</th>\n",
       "    </tr>\n",
       "  </thead>\n",
       "  <tbody>\n",
       "    <tr>\n",
       "      <th>0</th>\n",
       "      <td>0</td>\n",
       "      <td>0</td>\n",
       "      <td>1</td>\n",
       "      <td>0</td>\n",
       "      <td>0</td>\n",
       "      <td>1</td>\n",
       "      <td>0</td>\n",
       "      <td>0</td>\n",
       "      <td>0</td>\n",
       "      <td>0</td>\n",
       "    </tr>\n",
       "    <tr>\n",
       "      <th>2</th>\n",
       "      <td>0</td>\n",
       "      <td>0</td>\n",
       "      <td>1</td>\n",
       "      <td>0</td>\n",
       "      <td>0</td>\n",
       "      <td>1</td>\n",
       "      <td>0</td>\n",
       "      <td>0</td>\n",
       "      <td>1</td>\n",
       "      <td>0</td>\n",
       "    </tr>\n",
       "    <tr>\n",
       "      <th>3</th>\n",
       "      <td>0</td>\n",
       "      <td>0</td>\n",
       "      <td>1</td>\n",
       "      <td>0</td>\n",
       "      <td>0</td>\n",
       "      <td>1</td>\n",
       "      <td>0</td>\n",
       "      <td>0</td>\n",
       "      <td>0</td>\n",
       "      <td>0</td>\n",
       "    </tr>\n",
       "    <tr>\n",
       "      <th>4</th>\n",
       "      <td>0</td>\n",
       "      <td>1</td>\n",
       "      <td>0</td>\n",
       "      <td>0</td>\n",
       "      <td>0</td>\n",
       "      <td>1</td>\n",
       "      <td>0</td>\n",
       "      <td>0</td>\n",
       "      <td>1</td>\n",
       "      <td>1</td>\n",
       "    </tr>\n",
       "    <tr>\n",
       "      <th>5</th>\n",
       "      <td>0</td>\n",
       "      <td>0</td>\n",
       "      <td>1</td>\n",
       "      <td>0</td>\n",
       "      <td>0</td>\n",
       "      <td>1</td>\n",
       "      <td>0</td>\n",
       "      <td>0</td>\n",
       "      <td>0</td>\n",
       "      <td>0</td>\n",
       "    </tr>\n",
       "  </tbody>\n",
       "</table>\n",
       "</div>"
      ],
      "text/plain": [
       "   Entity Type_Independent  Entity Type_Parent  Entity Type_Subsidiary  \\\n",
       "0                        0                   0                       1   \n",
       "2                        0                   0                       1   \n",
       "3                        0                   0                       1   \n",
       "4                        0                   1                       0   \n",
       "5                        0                   0                       1   \n",
       "\n",
       "   Ownership Type_Nonprofit  Ownership Type_Partnership  \\\n",
       "0                         0                           0   \n",
       "2                         0                           0   \n",
       "3                         0                           0   \n",
       "4                         0                           0   \n",
       "5                         0                           0   \n",
       "\n",
       "   Ownership Type_Private  Ownership Type_Public  \\\n",
       "0                       1                      0   \n",
       "2                       1                      0   \n",
       "3                       1                      0   \n",
       "4                       1                      0   \n",
       "5                       1                      0   \n",
       "\n",
       "   Ownership Type_Public Sector  Is Domestic Ultimate_1.0  \\\n",
       "0                             0                         0   \n",
       "2                             0                         1   \n",
       "3                             0                         0   \n",
       "4                             0                         1   \n",
       "5                             0                         0   \n",
       "\n",
       "   Is Global Ultimate_1.0  \n",
       "0                       0  \n",
       "2                       0  \n",
       "3                       0  \n",
       "4                       1  \n",
       "5                       0  "
      ]
     },
     "execution_count": 16,
     "metadata": {},
     "output_type": "execute_result"
    }
   ],
   "source": [
    "X.head()"
   ]
  },
  {
   "cell_type": "code",
   "execution_count": 30,
   "id": "5cbd2096",
   "metadata": {},
   "outputs": [],
   "source": []
  },
  {
   "cell_type": "code",
   "execution_count": 31,
   "id": "b0ed6f5c",
   "metadata": {},
   "outputs": [],
   "source": [
    "X_train, X_test, y_train, y_test = train_test_split(X,y, \n",
    "                                   random_state=100,  \n",
    "                                   test_size=0.25,  \n",
    "                                   shuffle=True) "
   ]
  },
  {
   "cell_type": "code",
   "execution_count": 32,
   "id": "5b6e8d6e",
   "metadata": {},
   "outputs": [
    {
     "name": "stdout",
     "output_type": "stream",
     "text": [
      "[[-0.0323377  -0.63641995  0.63855619 ... -0.04021251  0.96582575\n",
      "  -0.60397448]\n",
      " [-0.0323377   1.57128952 -1.56603289 ... -0.04021251  0.96582575\n",
      "   1.65569909]\n",
      " [-0.0323377  -0.63641995  0.63855619 ... -0.04021251  0.96582575\n",
      "  -0.60397448]\n",
      " ...\n",
      " [-0.0323377  -0.63641995  0.63855619 ... -0.04021251 -1.03538345\n",
      "  -0.60397448]\n",
      " [-0.0323377  -0.63641995  0.63855619 ... -0.04021251 -1.03538345\n",
      "  -0.60397448]\n",
      " [-0.0323377  -0.63641995  0.63855619 ... -0.04021251 -1.03538345\n",
      "  -0.60397448]]\n"
     ]
    },
    {
     "data": {
      "text/plain": [
       "(21060, 10)"
      ]
     },
     "execution_count": 32,
     "metadata": {},
     "output_type": "execute_result"
    }
   ],
   "source": [
    "from sklearn.preprocessing import StandardScaler    \n",
    "scaler = StandardScaler()\n",
    "scaler.fit(X_train)\n",
    "X_train = scaler.transform(X_train)\n",
    "X_test = scaler.transform(X_test)\n",
    "print(X_train)\n",
    "X_train.shape"
   ]
  },
  {
   "cell_type": "code",
   "execution_count": 33,
   "id": "77a5d016",
   "metadata": {
    "scrolled": false
   },
   "outputs": [
    {
     "data": {
      "text/html": [
       "<div>\n",
       "<style scoped>\n",
       "    .dataframe tbody tr th:only-of-type {\n",
       "        vertical-align: middle;\n",
       "    }\n",
       "\n",
       "    .dataframe tbody tr th {\n",
       "        vertical-align: top;\n",
       "    }\n",
       "\n",
       "    .dataframe thead th {\n",
       "        text-align: right;\n",
       "    }\n",
       "</style>\n",
       "<table border=\"1\" class=\"dataframe\">\n",
       "  <thead>\n",
       "    <tr style=\"text-align: right;\">\n",
       "      <th></th>\n",
       "      <th>Sales (Domestic Ultimate Total USD)</th>\n",
       "    </tr>\n",
       "  </thead>\n",
       "  <tbody>\n",
       "    <tr>\n",
       "      <th>7629</th>\n",
       "      <td>4.119480e+06</td>\n",
       "    </tr>\n",
       "    <tr>\n",
       "      <th>27474</th>\n",
       "      <td>1.026308e+06</td>\n",
       "    </tr>\n",
       "    <tr>\n",
       "      <th>12025</th>\n",
       "      <td>6.111362e+06</td>\n",
       "    </tr>\n",
       "    <tr>\n",
       "      <th>5248</th>\n",
       "      <td>6.578040e+06</td>\n",
       "    </tr>\n",
       "    <tr>\n",
       "      <th>15265</th>\n",
       "      <td>8.151770e+07</td>\n",
       "    </tr>\n",
       "    <tr>\n",
       "      <th>26240</th>\n",
       "      <td>1.026308e+06</td>\n",
       "    </tr>\n",
       "    <tr>\n",
       "      <th>10356</th>\n",
       "      <td>2.781906e+09</td>\n",
       "    </tr>\n",
       "    <tr>\n",
       "      <th>24277</th>\n",
       "      <td>2.168284e+08</td>\n",
       "    </tr>\n",
       "    <tr>\n",
       "      <th>18095</th>\n",
       "      <td>2.522081e+09</td>\n",
       "    </tr>\n",
       "    <tr>\n",
       "      <th>13495</th>\n",
       "      <td>5.880700e+07</td>\n",
       "    </tr>\n",
       "  </tbody>\n",
       "</table>\n",
       "</div>"
      ],
      "text/plain": [
       "       Sales (Domestic Ultimate Total USD)\n",
       "7629                          4.119480e+06\n",
       "27474                         1.026308e+06\n",
       "12025                         6.111362e+06\n",
       "5248                          6.578040e+06\n",
       "15265                         8.151770e+07\n",
       "26240                         1.026308e+06\n",
       "10356                         2.781906e+09\n",
       "24277                         2.168284e+08\n",
       "18095                         2.522081e+09\n",
       "13495                         5.880700e+07"
      ]
     },
     "execution_count": 33,
     "metadata": {},
     "output_type": "execute_result"
    }
   ],
   "source": [
    "y_train.head(10)"
   ]
  },
  {
   "cell_type": "code",
   "execution_count": 34,
   "id": "35edb312",
   "metadata": {},
   "outputs": [
    {
     "data": {
      "text/html": [
       "<style>#sk-container-id-3 {color: black;}#sk-container-id-3 pre{padding: 0;}#sk-container-id-3 div.sk-toggleable {background-color: white;}#sk-container-id-3 label.sk-toggleable__label {cursor: pointer;display: block;width: 100%;margin-bottom: 0;padding: 0.3em;box-sizing: border-box;text-align: center;}#sk-container-id-3 label.sk-toggleable__label-arrow:before {content: \"▸\";float: left;margin-right: 0.25em;color: #696969;}#sk-container-id-3 label.sk-toggleable__label-arrow:hover:before {color: black;}#sk-container-id-3 div.sk-estimator:hover label.sk-toggleable__label-arrow:before {color: black;}#sk-container-id-3 div.sk-toggleable__content {max-height: 0;max-width: 0;overflow: hidden;text-align: left;background-color: #f0f8ff;}#sk-container-id-3 div.sk-toggleable__content pre {margin: 0.2em;color: black;border-radius: 0.25em;background-color: #f0f8ff;}#sk-container-id-3 input.sk-toggleable__control:checked~div.sk-toggleable__content {max-height: 200px;max-width: 100%;overflow: auto;}#sk-container-id-3 input.sk-toggleable__control:checked~label.sk-toggleable__label-arrow:before {content: \"▾\";}#sk-container-id-3 div.sk-estimator input.sk-toggleable__control:checked~label.sk-toggleable__label {background-color: #d4ebff;}#sk-container-id-3 div.sk-label input.sk-toggleable__control:checked~label.sk-toggleable__label {background-color: #d4ebff;}#sk-container-id-3 input.sk-hidden--visually {border: 0;clip: rect(1px 1px 1px 1px);clip: rect(1px, 1px, 1px, 1px);height: 1px;margin: -1px;overflow: hidden;padding: 0;position: absolute;width: 1px;}#sk-container-id-3 div.sk-estimator {font-family: monospace;background-color: #f0f8ff;border: 1px dotted black;border-radius: 0.25em;box-sizing: border-box;margin-bottom: 0.5em;}#sk-container-id-3 div.sk-estimator:hover {background-color: #d4ebff;}#sk-container-id-3 div.sk-parallel-item::after {content: \"\";width: 100%;border-bottom: 1px solid gray;flex-grow: 1;}#sk-container-id-3 div.sk-label:hover label.sk-toggleable__label {background-color: #d4ebff;}#sk-container-id-3 div.sk-serial::before {content: \"\";position: absolute;border-left: 1px solid gray;box-sizing: border-box;top: 0;bottom: 0;left: 50%;z-index: 0;}#sk-container-id-3 div.sk-serial {display: flex;flex-direction: column;align-items: center;background-color: white;padding-right: 0.2em;padding-left: 0.2em;position: relative;}#sk-container-id-3 div.sk-item {position: relative;z-index: 1;}#sk-container-id-3 div.sk-parallel {display: flex;align-items: stretch;justify-content: center;background-color: white;position: relative;}#sk-container-id-3 div.sk-item::before, #sk-container-id-3 div.sk-parallel-item::before {content: \"\";position: absolute;border-left: 1px solid gray;box-sizing: border-box;top: 0;bottom: 0;left: 50%;z-index: -1;}#sk-container-id-3 div.sk-parallel-item {display: flex;flex-direction: column;z-index: 1;position: relative;background-color: white;}#sk-container-id-3 div.sk-parallel-item:first-child::after {align-self: flex-end;width: 50%;}#sk-container-id-3 div.sk-parallel-item:last-child::after {align-self: flex-start;width: 50%;}#sk-container-id-3 div.sk-parallel-item:only-child::after {width: 0;}#sk-container-id-3 div.sk-dashed-wrapped {border: 1px dashed gray;margin: 0 0.4em 0.5em 0.4em;box-sizing: border-box;padding-bottom: 0.4em;background-color: white;}#sk-container-id-3 div.sk-label label {font-family: monospace;font-weight: bold;display: inline-block;line-height: 1.2em;}#sk-container-id-3 div.sk-label-container {text-align: center;}#sk-container-id-3 div.sk-container {/* jupyter's `normalize.less` sets `[hidden] { display: none; }` but bootstrap.min.css set `[hidden] { display: none !important; }` so we also need the `!important` here to be able to override the default hidden behavior on the sphinx rendered scikit-learn.org. See: https://github.com/scikit-learn/scikit-learn/issues/21755 */display: inline-block !important;position: relative;}#sk-container-id-3 div.sk-text-repr-fallback {display: none;}</style><div id=\"sk-container-id-3\" class=\"sk-top-container\"><div class=\"sk-text-repr-fallback\"><pre>LinearRegression()</pre><b>In a Jupyter environment, please rerun this cell to show the HTML representation or trust the notebook. <br />On GitHub, the HTML representation is unable to render, please try loading this page with nbviewer.org.</b></div><div class=\"sk-container\" hidden><div class=\"sk-item\"><div class=\"sk-estimator sk-toggleable\"><input class=\"sk-toggleable__control sk-hidden--visually\" id=\"sk-estimator-id-3\" type=\"checkbox\" checked><label for=\"sk-estimator-id-3\" class=\"sk-toggleable__label sk-toggleable__label-arrow\">LinearRegression</label><div class=\"sk-toggleable__content\"><pre>LinearRegression()</pre></div></div></div></div></div>"
      ],
      "text/plain": [
       "LinearRegression()"
      ]
     },
     "execution_count": 34,
     "metadata": {},
     "output_type": "execute_result"
    }
   ],
   "source": [
    "model = LinearRegression()\n",
    "model.fit(X_train,y_train)"
   ]
  },
  {
   "cell_type": "code",
   "execution_count": 35,
   "id": "fcea771b",
   "metadata": {},
   "outputs": [],
   "source": [
    "y_pred = model.predict(X_test)"
   ]
  },
  {
   "cell_type": "code",
   "execution_count": 36,
   "id": "63db966b",
   "metadata": {
    "scrolled": false
   },
   "outputs": [
    {
     "name": "stdout",
     "output_type": "stream",
     "text": [
      "[[5.88711810e+07]\n",
      " [2.75101537e+08]\n",
      " [5.88711810e+07]\n",
      " ...\n",
      " [1.35102595e+09]\n",
      " [2.75101537e+08]\n",
      " [1.35102595e+09]]\n"
     ]
    }
   ],
   "source": [
    "print(y_pred)"
   ]
  },
  {
   "cell_type": "code",
   "execution_count": 37,
   "id": "96d443d3",
   "metadata": {},
   "outputs": [
    {
     "name": "stdout",
     "output_type": "stream",
     "text": [
      "Mean Squared Error: 1.5229805088244377e+20\n"
     ]
    }
   ],
   "source": [
    "mse = mean_squared_error(y_test, y_pred)\n",
    "print(f'Mean Squared Error: {mse}')"
   ]
  },
  {
   "cell_type": "code",
   "execution_count": 38,
   "id": "b0073ba4",
   "metadata": {},
   "outputs": [
    {
     "data": {
      "image/png": "[encoded data removed]",
      "text/plain": [
       "<Figure size 640x480 with 1 Axes>"
      ]
     },
     "metadata": {},
     "output_type": "display_data"
    }
   ],
   "source": [
    "import matplotlib.pyplot as plt\n",
    "\n",
    "plt.scatter(y_test, y_pred)\n",
    "plt.xlabel('Actual Values')\n",
    "plt.ylabel('Predicted Values')\n",
    "plt.title('Actual vs. Predicted Values')\n",
    "plt.show()"
   ]
  },
  {
   "cell_type": "code",
   "execution_count": 26,
   "id": "53084a76",
   "metadata": {
    "scrolled": true
   },
   "outputs": [
    {
     "name": "stderr",
     "output_type": "stream",
     "text": [
      "/Users/junrongng/anaconda3/lib/python3.11/site-packages/sklearn/base.py:1151: DataConversionWarning: A column-vector y was passed when a 1d array was expected. Please change the shape of y to (n_samples,), for example using ravel().\n",
      "  return fit_method(estimator, *args, **kwargs)\n"
     ]
    },
    {
     "data": {
      "text/html": [
       "<style>#sk-container-id-2 {color: black;}#sk-container-id-2 pre{padding: 0;}#sk-container-id-2 div.sk-toggleable {background-color: white;}#sk-container-id-2 label.sk-toggleable__label {cursor: pointer;display: block;width: 100%;margin-bottom: 0;padding: 0.3em;box-sizing: border-box;text-align: center;}#sk-container-id-2 label.sk-toggleable__label-arrow:before {content: \"▸\";float: left;margin-right: 0.25em;color: #696969;}#sk-container-id-2 label.sk-toggleable__label-arrow:hover:before {color: black;}#sk-container-id-2 div.sk-estimator:hover label.sk-toggleable__label-arrow:before {color: black;}#sk-container-id-2 div.sk-toggleable__content {max-height: 0;max-width: 0;overflow: hidden;text-align: left;background-color: #f0f8ff;}#sk-container-id-2 div.sk-toggleable__content pre {margin: 0.2em;color: black;border-radius: 0.25em;background-color: #f0f8ff;}#sk-container-id-2 input.sk-toggleable__control:checked~div.sk-toggleable__content {max-height: 200px;max-width: 100%;overflow: auto;}#sk-container-id-2 input.sk-toggleable__control:checked~label.sk-toggleable__label-arrow:before {content: \"▾\";}#sk-container-id-2 div.sk-estimator input.sk-toggleable__control:checked~label.sk-toggleable__label {background-color: #d4ebff;}#sk-container-id-2 div.sk-label input.sk-toggleable__control:checked~label.sk-toggleable__label {background-color: #d4ebff;}#sk-container-id-2 input.sk-hidden--visually {border: 0;clip: rect(1px 1px 1px 1px);clip: rect(1px, 1px, 1px, 1px);height: 1px;margin: -1px;overflow: hidden;padding: 0;position: absolute;width: 1px;}#sk-container-id-2 div.sk-estimator {font-family: monospace;background-color: #f0f8ff;border: 1px dotted black;border-radius: 0.25em;box-sizing: border-box;margin-bottom: 0.5em;}#sk-container-id-2 div.sk-estimator:hover {background-color: #d4ebff;}#sk-container-id-2 div.sk-parallel-item::after {content: \"\";width: 100%;border-bottom: 1px solid gray;flex-grow: 1;}#sk-container-id-2 div.sk-label:hover label.sk-toggleable__label {background-color: #d4ebff;}#sk-container-id-2 div.sk-serial::before {content: \"\";position: absolute;border-left: 1px solid gray;box-sizing: border-box;top: 0;bottom: 0;left: 50%;z-index: 0;}#sk-container-id-2 div.sk-serial {display: flex;flex-direction: column;align-items: center;background-color: white;padding-right: 0.2em;padding-left: 0.2em;position: relative;}#sk-container-id-2 div.sk-item {position: relative;z-index: 1;}#sk-container-id-2 div.sk-parallel {display: flex;align-items: stretch;justify-content: center;background-color: white;position: relative;}#sk-container-id-2 div.sk-item::before, #sk-container-id-2 div.sk-parallel-item::before {content: \"\";position: absolute;border-left: 1px solid gray;box-sizing: border-box;top: 0;bottom: 0;left: 50%;z-index: -1;}#sk-container-id-2 div.sk-parallel-item {display: flex;flex-direction: column;z-index: 1;position: relative;background-color: white;}#sk-container-id-2 div.sk-parallel-item:first-child::after {align-self: flex-end;width: 50%;}#sk-container-id-2 div.sk-parallel-item:last-child::after {align-self: flex-start;width: 50%;}#sk-container-id-2 div.sk-parallel-item:only-child::after {width: 0;}#sk-container-id-2 div.sk-dashed-wrapped {border: 1px dashed gray;margin: 0 0.4em 0.5em 0.4em;box-sizing: border-box;padding-bottom: 0.4em;background-color: white;}#sk-container-id-2 div.sk-label label {font-family: monospace;font-weight: bold;display: inline-block;line-height: 1.2em;}#sk-container-id-2 div.sk-label-container {text-align: center;}#sk-container-id-2 div.sk-container {/* jupyter's `normalize.less` sets `[hidden] { display: none; }` but bootstrap.min.css set `[hidden] { display: none !important; }` so we also need the `!important` here to be able to override the default hidden behavior on the sphinx rendered scikit-learn.org. See: https://github.com/scikit-learn/scikit-learn/issues/21755 */display: inline-block !important;position: relative;}#sk-container-id-2 div.sk-text-repr-fallback {display: none;}</style><div id=\"sk-container-id-2\" class=\"sk-top-container\"><div class=\"sk-text-repr-fallback\"><pre>RandomForestRegressor(random_state=42)</pre><b>In a Jupyter environment, please rerun this cell to show the HTML representation or trust the notebook. <br />On GitHub, the HTML representation is unable to render, please try loading this page with nbviewer.org.</b></div><div class=\"sk-container\" hidden><div class=\"sk-item\"><div class=\"sk-estimator sk-toggleable\"><input class=\"sk-toggleable__control sk-hidden--visually\" id=\"sk-estimator-id-2\" type=\"checkbox\" checked><label for=\"sk-estimator-id-2\" class=\"sk-toggleable__label sk-toggleable__label-arrow\">RandomForestRegressor</label><div class=\"sk-toggleable__content\"><pre>RandomForestRegressor(random_state=42)</pre></div></div></div></div></div>"
      ],
      "text/plain": [
       "RandomForestRegressor(random_state=42)"
      ]
     },
     "execution_count": 26,
     "metadata": {},
     "output_type": "execute_result"
    }
   ],
   "source": [
    "from sklearn.ensemble import RandomForestRegressor\n",
    "rforest = RandomForestRegressor(n_estimators=100, random_state=42)\n",
    "rforest.fit(X_train, y_train)"
   ]
  },
  {
   "cell_type": "code",
   "execution_count": 29,
   "id": "2913667e",
   "metadata": {},
   "outputs": [
    {
     "name": "stdout",
     "output_type": "stream",
     "text": [
      "Mean Squared Error: 1.52293862843765e+20\n"
     ]
    }
   ],
   "source": [
    "from sklearn.metrics import mean_squared_error\n",
    "\n",
    "mse = mean_squared_error(y_test, y_pred)\n",
    "print(f'Mean Squared Error: {mse}')"
   ]
  },
  {
   "cell_type": "code",
   "execution_count": 28,
   "id": "26c2675d",
   "metadata": {},
   "outputs": [],
   "source": [
    "y_pred = rforest.predict(X_test)"
   ]
  },
  {
   "cell_type": "code",
   "execution_count": null,
   "id": "1baefa37",
   "metadata": {},
   "outputs": [
    {
     "name": "stderr",
     "output_type": "stream",
     "text": [
      "[Parallel(n_jobs=1)]: Using backend SequentialBackend with 1 concurrent workers.\n",
      "[Parallel(n_jobs=1)]: Done 100 out of 100 | elapsed:  1.3min finished\n",
      "[Parallel(n_jobs=1)]: Using backend SequentialBackend with 1 concurrent workers.\n",
      "[Parallel(n_jobs=1)]: Done 100 out of 100 | elapsed:   11.7s finished\n",
      "[Parallel(n_jobs=1)]: Using backend SequentialBackend with 1 concurrent workers.\n"
     ]
    },
    {
     "name": "stdout",
     "output_type": "stream",
     "text": [
      "Goodness of Fit of Model \tTrain Dataset\n"
     ]
    },
    {
     "name": "stderr",
     "output_type": "stream",
     "text": [
      "[Parallel(n_jobs=1)]: Done 100 out of 100 | elapsed:  1.9min finished\n"
     ]
    },
    {
     "name": "stdout",
     "output_type": "stream",
     "text": [
      "Classification Accuracy \t: 0.0011396011396011395\n",
      "\n",
      "Goodness of Fit of Model \tTest Dataset\n"
     ]
    },
    {
     "name": "stderr",
     "output_type": "stream",
     "text": [
      "[Parallel(n_jobs=1)]: Using backend SequentialBackend with 1 concurrent workers.\n",
      "[Parallel(n_jobs=1)]: Done 100 out of 100 | elapsed:   10.1s finished\n"
     ]
    },
    {
     "name": "stdout",
     "output_type": "stream",
     "text": [
      "Classification Accuracy \t: 0.0002849002849002849\n",
      "\n"
     ]
    },
    {
     "ename": "KeyboardInterrupt",
     "evalue": "",
     "output_type": "error",
     "traceback": [
      "\u001b[0;31m---------------------------------------------------------------------------\u001b[0m",
      "\u001b[0;31mKeyboardInterrupt\u001b[0m                         Traceback (most recent call last)",
      "Cell \u001b[0;32mIn[21], line 14\u001b[0m\n\u001b[1;32m     11\u001b[0m \u001b[38;5;28mprint\u001b[39m()\n\u001b[1;32m     13\u001b[0m f, axes \u001b[38;5;241m=\u001b[39m plt\u001b[38;5;241m.\u001b[39msubplots(\u001b[38;5;241m1\u001b[39m, \u001b[38;5;241m2\u001b[39m, figsize\u001b[38;5;241m=\u001b[39m(\u001b[38;5;241m12\u001b[39m, \u001b[38;5;241m4\u001b[39m)) \n\u001b[0;32m---> 14\u001b[0m s1 \u001b[38;5;241m=\u001b[39m sb\u001b[38;5;241m.\u001b[39mheatmap(confusion_matrix(y_train, y_train_pred), \n\u001b[1;32m     15\u001b[0m            annot \u001b[38;5;241m=\u001b[39m \u001b[38;5;28;01mTrue\u001b[39;00m, fmt\u001b[38;5;241m=\u001b[39m\u001b[38;5;124m\"\u001b[39m\u001b[38;5;124m.0f\u001b[39m\u001b[38;5;124m\"\u001b[39m, annot_kws\u001b[38;5;241m=\u001b[39m{\u001b[38;5;124m\"\u001b[39m\u001b[38;5;124msize\u001b[39m\u001b[38;5;124m\"\u001b[39m: \u001b[38;5;241m18\u001b[39m}, ax \u001b[38;5;241m=\u001b[39m axes[\u001b[38;5;241m0\u001b[39m]) \n\u001b[1;32m     16\u001b[0m s1\u001b[38;5;241m.\u001b[39mset(xlabel \u001b[38;5;241m=\u001b[39m \u001b[38;5;124m'\u001b[39m\u001b[38;5;124mPredicted\u001b[39m\u001b[38;5;124m'\u001b[39m, ylabel \u001b[38;5;241m=\u001b[39m \u001b[38;5;124m'\u001b[39m\u001b[38;5;124mActual\u001b[39m\u001b[38;5;124m'\u001b[39m)\n\u001b[1;32m     17\u001b[0m s2 \u001b[38;5;241m=\u001b[39m sb\u001b[38;5;241m.\u001b[39mheatmap(confusion_matrix(y_test, y_test_pred), \n\u001b[1;32m     18\u001b[0m            annot \u001b[38;5;241m=\u001b[39m \u001b[38;5;28;01mTrue\u001b[39;00m, fmt\u001b[38;5;241m=\u001b[39m\u001b[38;5;124m\"\u001b[39m\u001b[38;5;124m.0f\u001b[39m\u001b[38;5;124m\"\u001b[39m, annot_kws\u001b[38;5;241m=\u001b[39m{\u001b[38;5;124m\"\u001b[39m\u001b[38;5;124msize\u001b[39m\u001b[38;5;124m\"\u001b[39m: \u001b[38;5;241m18\u001b[39m}, ax \u001b[38;5;241m=\u001b[39m axes[\u001b[38;5;241m1\u001b[39m])\n",
      "File \u001b[0;32m~/anaconda3/lib/python3.11/site-packages/seaborn/matrix.py:459\u001b[0m, in \u001b[0;36mheatmap\u001b[0;34m(data, vmin, vmax, cmap, center, robust, annot, fmt, annot_kws, linewidths, linecolor, cbar, cbar_kws, cbar_ax, square, xticklabels, yticklabels, mask, ax, **kwargs)\u001b[0m\n\u001b[1;32m    457\u001b[0m \u001b[38;5;28;01mif\u001b[39;00m square:\n\u001b[1;32m    458\u001b[0m     ax\u001b[38;5;241m.\u001b[39mset_aspect(\u001b[38;5;124m\"\u001b[39m\u001b[38;5;124mequal\u001b[39m\u001b[38;5;124m\"\u001b[39m)\n\u001b[0;32m--> 459\u001b[0m plotter\u001b[38;5;241m.\u001b[39mplot(ax, cbar_ax, kwargs)\n\u001b[1;32m    460\u001b[0m \u001b[38;5;28;01mreturn\u001b[39;00m ax\n",
      "File \u001b[0;32m~/anaconda3/lib/python3.11/site-packages/seaborn/matrix.py:352\u001b[0m, in \u001b[0;36m_HeatMapper.plot\u001b[0;34m(self, ax, cax, kws)\u001b[0m\n\u001b[1;32m    350\u001b[0m \u001b[38;5;66;03m# Annotate the cells with the formatted values\u001b[39;00m\n\u001b[1;32m    351\u001b[0m \u001b[38;5;28;01mif\u001b[39;00m \u001b[38;5;28mself\u001b[39m\u001b[38;5;241m.\u001b[39mannot:\n\u001b[0;32m--> 352\u001b[0m     \u001b[38;5;28mself\u001b[39m\u001b[38;5;241m.\u001b[39m_annotate_heatmap(ax, mesh)\n",
      "File \u001b[0;32m~/anaconda3/lib/python3.11/site-packages/seaborn/matrix.py:263\u001b[0m, in \u001b[0;36m_HeatMapper._annotate_heatmap\u001b[0;34m(self, ax, mesh)\u001b[0m\n\u001b[1;32m    261\u001b[0m text_kwargs \u001b[38;5;241m=\u001b[39m \u001b[38;5;28mdict\u001b[39m(color\u001b[38;5;241m=\u001b[39mtext_color, ha\u001b[38;5;241m=\u001b[39m\u001b[38;5;124m\"\u001b[39m\u001b[38;5;124mcenter\u001b[39m\u001b[38;5;124m\"\u001b[39m, va\u001b[38;5;241m=\u001b[39m\u001b[38;5;124m\"\u001b[39m\u001b[38;5;124mcenter\u001b[39m\u001b[38;5;124m\"\u001b[39m)\n\u001b[1;32m    262\u001b[0m text_kwargs\u001b[38;5;241m.\u001b[39mupdate(\u001b[38;5;28mself\u001b[39m\u001b[38;5;241m.\u001b[39mannot_kws)\n\u001b[0;32m--> 263\u001b[0m ax\u001b[38;5;241m.\u001b[39mtext(x, y, annotation, \u001b[38;5;241m*\u001b[39m\u001b[38;5;241m*\u001b[39mtext_kwargs)\n",
      "File \u001b[0;32m~/anaconda3/lib/python3.11/site-packages/matplotlib/axes/_axes.py:689\u001b[0m, in \u001b[0;36mAxes.text\u001b[0;34m(self, x, y, s, fontdict, **kwargs)\u001b[0m\n\u001b[1;32m    628\u001b[0m \u001b[38;5;250m\u001b[39m\u001b[38;5;124;03m\"\"\"\u001b[39;00m\n\u001b[1;32m    629\u001b[0m \u001b[38;5;124;03mAdd text to the Axes.\u001b[39;00m\n\u001b[1;32m    630\u001b[0m \n\u001b[0;32m   (...)\u001b[0m\n\u001b[1;32m    679\u001b[0m \u001b[38;5;124;03m    >>> text(x, y, s, bbox=dict(facecolor='red', alpha=0.5))\u001b[39;00m\n\u001b[1;32m    680\u001b[0m \u001b[38;5;124;03m\"\"\"\u001b[39;00m\n\u001b[1;32m    681\u001b[0m effective_kwargs \u001b[38;5;241m=\u001b[39m {\n\u001b[1;32m    682\u001b[0m     \u001b[38;5;124m'\u001b[39m\u001b[38;5;124mverticalalignment\u001b[39m\u001b[38;5;124m'\u001b[39m: \u001b[38;5;124m'\u001b[39m\u001b[38;5;124mbaseline\u001b[39m\u001b[38;5;124m'\u001b[39m,\n\u001b[1;32m    683\u001b[0m     \u001b[38;5;124m'\u001b[39m\u001b[38;5;124mhorizontalalignment\u001b[39m\u001b[38;5;124m'\u001b[39m: \u001b[38;5;124m'\u001b[39m\u001b[38;5;124mleft\u001b[39m\u001b[38;5;124m'\u001b[39m,\n\u001b[0;32m   (...)\u001b[0m\n\u001b[1;32m    687\u001b[0m     \u001b[38;5;241m*\u001b[39m\u001b[38;5;241m*\u001b[39mkwargs,\n\u001b[1;32m    688\u001b[0m }\n\u001b[0;32m--> 689\u001b[0m t \u001b[38;5;241m=\u001b[39m mtext\u001b[38;5;241m.\u001b[39mText(x, y, text\u001b[38;5;241m=\u001b[39ms, \u001b[38;5;241m*\u001b[39m\u001b[38;5;241m*\u001b[39meffective_kwargs)\n\u001b[1;32m    690\u001b[0m t\u001b[38;5;241m.\u001b[39mset_clip_path(\u001b[38;5;28mself\u001b[39m\u001b[38;5;241m.\u001b[39mpatch)\n\u001b[1;32m    691\u001b[0m \u001b[38;5;28mself\u001b[39m\u001b[38;5;241m.\u001b[39m_add_text(t)\n",
      "File \u001b[0;32m~/anaconda3/lib/python3.11/site-packages/matplotlib/_api/deprecation.py:454\u001b[0m, in \u001b[0;36mmake_keyword_only.<locals>.wrapper\u001b[0;34m(*args, **kwargs)\u001b[0m\n\u001b[1;32m    448\u001b[0m \u001b[38;5;28;01mif\u001b[39;00m \u001b[38;5;28mlen\u001b[39m(args) \u001b[38;5;241m>\u001b[39m name_idx:\n\u001b[1;32m    449\u001b[0m     warn_deprecated(\n\u001b[1;32m    450\u001b[0m         since, message\u001b[38;5;241m=\u001b[39m\u001b[38;5;124m\"\u001b[39m\u001b[38;5;124mPassing the \u001b[39m\u001b[38;5;132;01m%(name)s\u001b[39;00m\u001b[38;5;124m \u001b[39m\u001b[38;5;132;01m%(obj_type)s\u001b[39;00m\u001b[38;5;124m \u001b[39m\u001b[38;5;124m\"\u001b[39m\n\u001b[1;32m    451\u001b[0m         \u001b[38;5;124m\"\u001b[39m\u001b[38;5;124mpositionally is deprecated since Matplotlib \u001b[39m\u001b[38;5;132;01m%(since)s\u001b[39;00m\u001b[38;5;124m; the \u001b[39m\u001b[38;5;124m\"\u001b[39m\n\u001b[1;32m    452\u001b[0m         \u001b[38;5;124m\"\u001b[39m\u001b[38;5;124mparameter will become keyword-only \u001b[39m\u001b[38;5;132;01m%(removal)s\u001b[39;00m\u001b[38;5;124m.\u001b[39m\u001b[38;5;124m\"\u001b[39m,\n\u001b[1;32m    453\u001b[0m         name\u001b[38;5;241m=\u001b[39mname, obj_type\u001b[38;5;241m=\u001b[39m\u001b[38;5;124mf\u001b[39m\u001b[38;5;124m\"\u001b[39m\u001b[38;5;124mparameter of \u001b[39m\u001b[38;5;132;01m{\u001b[39;00mfunc\u001b[38;5;241m.\u001b[39m\u001b[38;5;18m__name__\u001b[39m\u001b[38;5;132;01m}\u001b[39;00m\u001b[38;5;124m()\u001b[39m\u001b[38;5;124m\"\u001b[39m)\n\u001b[0;32m--> 454\u001b[0m \u001b[38;5;28;01mreturn\u001b[39;00m func(\u001b[38;5;241m*\u001b[39margs, \u001b[38;5;241m*\u001b[39m\u001b[38;5;241m*\u001b[39mkwargs)\n",
      "File \u001b[0;32m~/anaconda3/lib/python3.11/site-packages/matplotlib/text.py:168\u001b[0m, in \u001b[0;36mText.__init__\u001b[0;34m(self, x, y, text, color, verticalalignment, horizontalalignment, multialignment, fontproperties, rotation, linespacing, rotation_mode, usetex, wrap, transform_rotates_text, parse_math, **kwargs)\u001b[0m\n\u001b[1;32m    166\u001b[0m \u001b[38;5;28mself\u001b[39m\u001b[38;5;241m.\u001b[39m_x, \u001b[38;5;28mself\u001b[39m\u001b[38;5;241m.\u001b[39m_y \u001b[38;5;241m=\u001b[39m x, y\n\u001b[1;32m    167\u001b[0m \u001b[38;5;28mself\u001b[39m\u001b[38;5;241m.\u001b[39m_text \u001b[38;5;241m=\u001b[39m \u001b[38;5;124m'\u001b[39m\u001b[38;5;124m'\u001b[39m\n\u001b[0;32m--> 168\u001b[0m \u001b[38;5;28mself\u001b[39m\u001b[38;5;241m.\u001b[39m_reset_visual_defaults(\n\u001b[1;32m    169\u001b[0m     text\u001b[38;5;241m=\u001b[39mtext,\n\u001b[1;32m    170\u001b[0m     color\u001b[38;5;241m=\u001b[39mcolor,\n\u001b[1;32m    171\u001b[0m     fontproperties\u001b[38;5;241m=\u001b[39mfontproperties,\n\u001b[1;32m    172\u001b[0m     usetex\u001b[38;5;241m=\u001b[39musetex,\n\u001b[1;32m    173\u001b[0m     parse_math\u001b[38;5;241m=\u001b[39mparse_math,\n\u001b[1;32m    174\u001b[0m     wrap\u001b[38;5;241m=\u001b[39mwrap,\n\u001b[1;32m    175\u001b[0m     verticalalignment\u001b[38;5;241m=\u001b[39mverticalalignment,\n\u001b[1;32m    176\u001b[0m     horizontalalignment\u001b[38;5;241m=\u001b[39mhorizontalalignment,\n\u001b[1;32m    177\u001b[0m     multialignment\u001b[38;5;241m=\u001b[39mmultialignment,\n\u001b[1;32m    178\u001b[0m     rotation\u001b[38;5;241m=\u001b[39mrotation,\n\u001b[1;32m    179\u001b[0m     transform_rotates_text\u001b[38;5;241m=\u001b[39mtransform_rotates_text,\n\u001b[1;32m    180\u001b[0m     linespacing\u001b[38;5;241m=\u001b[39mlinespacing,\n\u001b[1;32m    181\u001b[0m     rotation_mode\u001b[38;5;241m=\u001b[39mrotation_mode,\n\u001b[1;32m    182\u001b[0m )\n\u001b[1;32m    183\u001b[0m \u001b[38;5;28mself\u001b[39m\u001b[38;5;241m.\u001b[39mupdate(kwargs)\n",
      "File \u001b[0;32m~/anaconda3/lib/python3.11/site-packages/matplotlib/text.py:204\u001b[0m, in \u001b[0;36mText._reset_visual_defaults\u001b[0;34m(self, text, color, fontproperties, usetex, parse_math, wrap, verticalalignment, horizontalalignment, multialignment, rotation, transform_rotates_text, linespacing, rotation_mode)\u001b[0m\n\u001b[1;32m    201\u001b[0m \u001b[38;5;28mself\u001b[39m\u001b[38;5;241m.\u001b[39mset_text(text)\n\u001b[1;32m    202\u001b[0m \u001b[38;5;28mself\u001b[39m\u001b[38;5;241m.\u001b[39mset_color(\n\u001b[1;32m    203\u001b[0m     color \u001b[38;5;28;01mif\u001b[39;00m color \u001b[38;5;129;01mis\u001b[39;00m \u001b[38;5;129;01mnot\u001b[39;00m \u001b[38;5;28;01mNone\u001b[39;00m \u001b[38;5;28;01melse\u001b[39;00m mpl\u001b[38;5;241m.\u001b[39mrcParams[\u001b[38;5;124m\"\u001b[39m\u001b[38;5;124mtext.color\u001b[39m\u001b[38;5;124m\"\u001b[39m])\n\u001b[0;32m--> 204\u001b[0m \u001b[38;5;28mself\u001b[39m\u001b[38;5;241m.\u001b[39mset_fontproperties(fontproperties)\n\u001b[1;32m    205\u001b[0m \u001b[38;5;28mself\u001b[39m\u001b[38;5;241m.\u001b[39mset_usetex(usetex)\n\u001b[1;32m    206\u001b[0m \u001b[38;5;28mself\u001b[39m\u001b[38;5;241m.\u001b[39mset_parse_math(parse_math \u001b[38;5;28;01mif\u001b[39;00m parse_math \u001b[38;5;129;01mis\u001b[39;00m \u001b[38;5;129;01mnot\u001b[39;00m \u001b[38;5;28;01mNone\u001b[39;00m \u001b[38;5;28;01melse\u001b[39;00m\n\u001b[1;32m    207\u001b[0m                     mpl\u001b[38;5;241m.\u001b[39mrcParams[\u001b[38;5;124m'\u001b[39m\u001b[38;5;124mtext.parse_math\u001b[39m\u001b[38;5;124m'\u001b[39m])\n",
      "File \u001b[0;32m~/anaconda3/lib/python3.11/site-packages/matplotlib/text.py:1318\u001b[0m, in \u001b[0;36mText.set_fontproperties\u001b[0;34m(self, fp)\u001b[0m\n\u001b[1;32m   1307\u001b[0m \u001b[38;5;28;01mdef\u001b[39;00m \u001b[38;5;21mset_fontproperties\u001b[39m(\u001b[38;5;28mself\u001b[39m, fp):\n\u001b[1;32m   1308\u001b[0m \u001b[38;5;250m    \u001b[39m\u001b[38;5;124;03m\"\"\"\u001b[39;00m\n\u001b[1;32m   1309\u001b[0m \u001b[38;5;124;03m    Set the font properties that control the text.\u001b[39;00m\n\u001b[1;32m   1310\u001b[0m \n\u001b[0;32m   (...)\u001b[0m\n\u001b[1;32m   1316\u001b[0m \u001b[38;5;124;03m        absolute path to a font file.\u001b[39;00m\n\u001b[1;32m   1317\u001b[0m \u001b[38;5;124;03m    \"\"\"\u001b[39;00m\n\u001b[0;32m-> 1318\u001b[0m     \u001b[38;5;28mself\u001b[39m\u001b[38;5;241m.\u001b[39m_fontproperties \u001b[38;5;241m=\u001b[39m FontProperties\u001b[38;5;241m.\u001b[39m_from_any(fp)\u001b[38;5;241m.\u001b[39mcopy()\n\u001b[1;32m   1319\u001b[0m     \u001b[38;5;28mself\u001b[39m\u001b[38;5;241m.\u001b[39mstale \u001b[38;5;241m=\u001b[39m \u001b[38;5;28;01mTrue\u001b[39;00m\n",
      "File \u001b[0;32m~/anaconda3/lib/python3.11/site-packages/matplotlib/font_manager.py:896\u001b[0m, in \u001b[0;36mFontProperties.copy\u001b[0;34m(self)\u001b[0m\n\u001b[1;32m    894\u001b[0m \u001b[38;5;28;01mdef\u001b[39;00m \u001b[38;5;21mcopy\u001b[39m(\u001b[38;5;28mself\u001b[39m):\n\u001b[1;32m    895\u001b[0m \u001b[38;5;250m    \u001b[39m\u001b[38;5;124;03m\"\"\"Return a copy of self.\"\"\"\u001b[39;00m\n\u001b[0;32m--> 896\u001b[0m     \u001b[38;5;28;01mreturn\u001b[39;00m copy\u001b[38;5;241m.\u001b[39mcopy(\u001b[38;5;28mself\u001b[39m)\n",
      "File \u001b[0;32m~/anaconda3/lib/python3.11/copy.py:102\u001b[0m, in \u001b[0;36mcopy\u001b[0;34m(x)\u001b[0m\n\u001b[1;32m    100\u001b[0m \u001b[38;5;28;01mif\u001b[39;00m \u001b[38;5;28misinstance\u001b[39m(rv, \u001b[38;5;28mstr\u001b[39m):\n\u001b[1;32m    101\u001b[0m     \u001b[38;5;28;01mreturn\u001b[39;00m x\n\u001b[0;32m--> 102\u001b[0m \u001b[38;5;28;01mreturn\u001b[39;00m _reconstruct(x, \u001b[38;5;28;01mNone\u001b[39;00m, \u001b[38;5;241m*\u001b[39mrv)\n",
      "File \u001b[0;32m~/anaconda3/lib/python3.11/copy.py:259\u001b[0m, in \u001b[0;36m_reconstruct\u001b[0;34m(x, memo, func, args, state, listiter, dictiter, deepcopy)\u001b[0m\n\u001b[1;32m    255\u001b[0m     \u001b[38;5;28;01mexcept\u001b[39;00m \u001b[38;5;167;01mKeyError\u001b[39;00m:\n\u001b[1;32m    256\u001b[0m         \u001b[38;5;66;03m# aha, this is the first one :-)\u001b[39;00m\n\u001b[1;32m    257\u001b[0m         memo[\u001b[38;5;28mid\u001b[39m(memo)]\u001b[38;5;241m=\u001b[39m[x]\n\u001b[0;32m--> 259\u001b[0m \u001b[38;5;28;01mdef\u001b[39;00m \u001b[38;5;21m_reconstruct\u001b[39m(x, memo, func, args,\n\u001b[1;32m    260\u001b[0m                  state\u001b[38;5;241m=\u001b[39m\u001b[38;5;28;01mNone\u001b[39;00m, listiter\u001b[38;5;241m=\u001b[39m\u001b[38;5;28;01mNone\u001b[39;00m, dictiter\u001b[38;5;241m=\u001b[39m\u001b[38;5;28;01mNone\u001b[39;00m,\n\u001b[1;32m    261\u001b[0m                  \u001b[38;5;241m*\u001b[39m, deepcopy\u001b[38;5;241m=\u001b[39mdeepcopy):\n\u001b[1;32m    262\u001b[0m     deep \u001b[38;5;241m=\u001b[39m memo \u001b[38;5;129;01mis\u001b[39;00m \u001b[38;5;129;01mnot\u001b[39;00m \u001b[38;5;28;01mNone\u001b[39;00m\n\u001b[1;32m    263\u001b[0m     \u001b[38;5;28;01mif\u001b[39;00m deep \u001b[38;5;129;01mand\u001b[39;00m args:\n",
      "\u001b[0;31mKeyboardInterrupt\u001b[0m: "
     ]
    }
   ],
   "source": [
    "from sklearn.metrics import confusion_matrix\n",
    "y_train_pred = rforest.predict(X_train)\n",
    "y_test_pred = rforest.predict(X_test)\n",
    "\n",
    "print(\"Goodness of Fit of Model \\tTrain Dataset\")\n",
    "print(\"Classification Accuracy \\t:\", rforest.score(X_train, y_train))\n",
    "print()\n",
    "\n",
    "print(\"Goodness of Fit of Model \\tTest Dataset\") \n",
    "print(\"Classification Accuracy \\t:\", rforest.score(X_test, y_test))\n",
    "print()\n"
   ]
  },
  {
   "cell_type": "markdown",
   "id": "6d4e9b3d",
   "metadata": {},
   "source": [
    "Regression\\\n",
    "random forest\\\n",
    "decision trees (cart)\\\n",
    "neural networks"
   ]
  },
  {
   "cell_type": "code",
   "execution_count": 10,
   "id": "56da94b1",
   "metadata": {},
   "outputs": [
    {
     "ename": "ValueError",
     "evalue": "could not convert string to float: 'LAKB2BID4559214'",
     "output_type": "error",
     "traceback": [
      "\u001b[0;31m---------------------------------------------------------------------------\u001b[0m",
      "\u001b[0;31mValueError\u001b[0m                                Traceback (most recent call last)",
      "Cell \u001b[0;32mIn[10], line 1\u001b[0m\n\u001b[0;32m----> 1\u001b[0m df\u001b[38;5;241m.\u001b[39mcorr()\n",
      "File \u001b[0;32m~/anaconda3/lib/python3.11/site-packages/pandas/core/frame.py:10054\u001b[0m, in \u001b[0;36mDataFrame.corr\u001b[0;34m(self, method, min_periods, numeric_only)\u001b[0m\n\u001b[1;32m  10052\u001b[0m cols \u001b[38;5;241m=\u001b[39m data\u001b[38;5;241m.\u001b[39mcolumns\n\u001b[1;32m  10053\u001b[0m idx \u001b[38;5;241m=\u001b[39m cols\u001b[38;5;241m.\u001b[39mcopy()\n\u001b[0;32m> 10054\u001b[0m mat \u001b[38;5;241m=\u001b[39m data\u001b[38;5;241m.\u001b[39mto_numpy(dtype\u001b[38;5;241m=\u001b[39m\u001b[38;5;28mfloat\u001b[39m, na_value\u001b[38;5;241m=\u001b[39mnp\u001b[38;5;241m.\u001b[39mnan, copy\u001b[38;5;241m=\u001b[39m\u001b[38;5;28;01mFalse\u001b[39;00m)\n\u001b[1;32m  10056\u001b[0m \u001b[38;5;28;01mif\u001b[39;00m method \u001b[38;5;241m==\u001b[39m \u001b[38;5;124m\"\u001b[39m\u001b[38;5;124mpearson\u001b[39m\u001b[38;5;124m\"\u001b[39m:\n\u001b[1;32m  10057\u001b[0m     correl \u001b[38;5;241m=\u001b[39m libalgos\u001b[38;5;241m.\u001b[39mnancorr(mat, minp\u001b[38;5;241m=\u001b[39mmin_periods)\n",
      "File \u001b[0;32m~/anaconda3/lib/python3.11/site-packages/pandas/core/frame.py:1838\u001b[0m, in \u001b[0;36mDataFrame.to_numpy\u001b[0;34m(self, dtype, copy, na_value)\u001b[0m\n\u001b[1;32m   1836\u001b[0m \u001b[38;5;28;01mif\u001b[39;00m dtype \u001b[38;5;129;01mis\u001b[39;00m \u001b[38;5;129;01mnot\u001b[39;00m \u001b[38;5;28;01mNone\u001b[39;00m:\n\u001b[1;32m   1837\u001b[0m     dtype \u001b[38;5;241m=\u001b[39m np\u001b[38;5;241m.\u001b[39mdtype(dtype)\n\u001b[0;32m-> 1838\u001b[0m result \u001b[38;5;241m=\u001b[39m \u001b[38;5;28mself\u001b[39m\u001b[38;5;241m.\u001b[39m_mgr\u001b[38;5;241m.\u001b[39mas_array(dtype\u001b[38;5;241m=\u001b[39mdtype, copy\u001b[38;5;241m=\u001b[39mcopy, na_value\u001b[38;5;241m=\u001b[39mna_value)\n\u001b[1;32m   1839\u001b[0m \u001b[38;5;28;01mif\u001b[39;00m result\u001b[38;5;241m.\u001b[39mdtype \u001b[38;5;129;01mis\u001b[39;00m \u001b[38;5;129;01mnot\u001b[39;00m dtype:\n\u001b[1;32m   1840\u001b[0m     result \u001b[38;5;241m=\u001b[39m np\u001b[38;5;241m.\u001b[39marray(result, dtype\u001b[38;5;241m=\u001b[39mdtype, copy\u001b[38;5;241m=\u001b[39m\u001b[38;5;28;01mFalse\u001b[39;00m)\n",
      "File \u001b[0;32m~/anaconda3/lib/python3.11/site-packages/pandas/core/internals/managers.py:1732\u001b[0m, in \u001b[0;36mBlockManager.as_array\u001b[0;34m(self, dtype, copy, na_value)\u001b[0m\n\u001b[1;32m   1730\u001b[0m         arr\u001b[38;5;241m.\u001b[39mflags\u001b[38;5;241m.\u001b[39mwriteable \u001b[38;5;241m=\u001b[39m \u001b[38;5;28;01mFalse\u001b[39;00m\n\u001b[1;32m   1731\u001b[0m \u001b[38;5;28;01melse\u001b[39;00m:\n\u001b[0;32m-> 1732\u001b[0m     arr \u001b[38;5;241m=\u001b[39m \u001b[38;5;28mself\u001b[39m\u001b[38;5;241m.\u001b[39m_interleave(dtype\u001b[38;5;241m=\u001b[39mdtype, na_value\u001b[38;5;241m=\u001b[39mna_value)\n\u001b[1;32m   1733\u001b[0m     \u001b[38;5;66;03m# The underlying data was copied within _interleave, so no need\u001b[39;00m\n\u001b[1;32m   1734\u001b[0m     \u001b[38;5;66;03m# to further copy if copy=True or setting na_value\u001b[39;00m\n\u001b[1;32m   1736\u001b[0m \u001b[38;5;28;01mif\u001b[39;00m na_value \u001b[38;5;129;01mis\u001b[39;00m \u001b[38;5;129;01mnot\u001b[39;00m lib\u001b[38;5;241m.\u001b[39mno_default:\n",
      "File \u001b[0;32m~/anaconda3/lib/python3.11/site-packages/pandas/core/internals/managers.py:1794\u001b[0m, in \u001b[0;36mBlockManager._interleave\u001b[0;34m(self, dtype, na_value)\u001b[0m\n\u001b[1;32m   1792\u001b[0m     \u001b[38;5;28;01melse\u001b[39;00m:\n\u001b[1;32m   1793\u001b[0m         arr \u001b[38;5;241m=\u001b[39m blk\u001b[38;5;241m.\u001b[39mget_values(dtype)\n\u001b[0;32m-> 1794\u001b[0m     result[rl\u001b[38;5;241m.\u001b[39mindexer] \u001b[38;5;241m=\u001b[39m arr\n\u001b[1;32m   1795\u001b[0m     itemmask[rl\u001b[38;5;241m.\u001b[39mindexer] \u001b[38;5;241m=\u001b[39m \u001b[38;5;241m1\u001b[39m\n\u001b[1;32m   1797\u001b[0m \u001b[38;5;28;01mif\u001b[39;00m \u001b[38;5;129;01mnot\u001b[39;00m itemmask\u001b[38;5;241m.\u001b[39mall():\n",
      "\u001b[0;31mValueError\u001b[0m: could not convert string to float: 'LAKB2BID4559214'"
     ]
    }
   ],
   "source": [
    "df.corr()"
   ]
  },
  {
   "cell_type": "code",
   "execution_count": 17,
   "id": "21d01a10",
   "metadata": {
    "scrolled": true
   },
   "outputs": [
    {
     "data": {
      "text/plain": [
       "['Entity Type',\n",
       " 'Ownership Type',\n",
       " 'Square Footage',\n",
       " 'Company Status (Active/Inactive)',\n",
       " 'Import/Export Status',\n",
       " 'Is Domestic Ultimate',\n",
       " 'Is Global Ultimate']"
      ]
     },
     "execution_count": 17,
     "metadata": {},
     "output_type": "execute_result"
    }
   ],
   "source": [
    "categorical_features = [feature for feature in df.columns if len(df[feature].unique())<25]\n",
    "categorical_features"
   ]
  },
  {
   "cell_type": "code",
   "execution_count": 6,
   "id": "2de751c6",
   "metadata": {},
   "outputs": [
    {
     "name": "stdout",
     "output_type": "stream",
     "text": [
      "N. rows with maker not null: 6613\n",
      "N. rows with maker null: 22569\n"
     ]
    }
   ],
   "source": [
    "df_with_maker = df_cleaned[df_cleaned['Import/Export Status'].notna()]\n",
    "print(\"N. rows with maker not null:\", df_with_maker.shape[0])\n",
    "\n",
    "df_no_maker = df_cleaned[df_cleaned['Import/Export Status'].isna()]\n",
    "print(\"N. rows with maker null:\", df_no_maker.shape[0])"
   ]
  },
  {
   "cell_type": "code",
   "execution_count": 18,
   "id": "16ebb7cc",
   "metadata": {},
   "outputs": [
    {
     "name": "stdout",
     "output_type": "stream",
     "text": [
      "The feature is Entity Type and number of categories are 4\n",
      "The feature is Ownership Type and number of categories are 6\n",
      "The feature is Square Footage and number of categories are 1\n",
      "The feature is Company Status (Active/Inactive) and number of categories are 1\n",
      "The feature is Import/Export Status and number of categories are 4\n",
      "The feature is Is Domestic Ultimate and number of categories are 2\n",
      "The feature is Is Global Ultimate and number of categories are 2\n"
     ]
    }
   ],
   "source": [
    "for feature in categorical_features:\n",
    "    print('The feature is {} and number of categories are {}'.format(feature,len(df[feature].unique())))"
   ]
  },
  {
   "cell_type": "code",
   "execution_count": 19,
   "id": "6383ec68",
   "metadata": {},
   "outputs": [
    {
     "data": {
      "text/plain": [
       "Entity Type                             0\n",
       "Ownership Type                          0\n",
       "Square Footage                      29182\n",
       "Company Status (Active/Inactive)        0\n",
       "Import/Export Status                22569\n",
       "Is Domestic Ultimate                    0\n",
       "Is Global Ultimate                      0\n",
       "dtype: int64"
      ]
     },
     "execution_count": 19,
     "metadata": {},
     "output_type": "execute_result"
    }
   ],
   "source": [
    "df[categorical_features].isnull().sum()"
   ]
  },
  {
   "cell_type": "code",
   "execution_count": 20,
   "id": "ebdec9a0",
   "metadata": {},
   "outputs": [],
   "source": [
    "missing_cf= [\"Import/Export Status\"]"
   ]
  },
  {
   "cell_type": "code",
   "execution_count": 21,
   "id": "23547e47",
   "metadata": {},
   "outputs": [
    {
     "data": {
      "text/html": [
       "<div>\n",
       "<style scoped>\n",
       "    .dataframe tbody tr th:only-of-type {\n",
       "        vertical-align: middle;\n",
       "    }\n",
       "\n",
       "    .dataframe tbody tr th {\n",
       "        vertical-align: top;\n",
       "    }\n",
       "\n",
       "    .dataframe thead th {\n",
       "        text-align: right;\n",
       "    }\n",
       "</style>\n",
       "<table border=\"1\" class=\"dataframe\">\n",
       "  <thead>\n",
       "    <tr style=\"text-align: right;\">\n",
       "      <th></th>\n",
       "      <th>Import/Export Status</th>\n",
       "    </tr>\n",
       "  </thead>\n",
       "  <tbody>\n",
       "    <tr>\n",
       "      <th>0</th>\n",
       "      <td>NaN</td>\n",
       "    </tr>\n",
       "    <tr>\n",
       "      <th>1</th>\n",
       "      <td>NaN</td>\n",
       "    </tr>\n",
       "    <tr>\n",
       "      <th>2</th>\n",
       "      <td>NaN</td>\n",
       "    </tr>\n",
       "    <tr>\n",
       "      <th>3</th>\n",
       "      <td>NaN</td>\n",
       "    </tr>\n",
       "    <tr>\n",
       "      <th>4</th>\n",
       "      <td>Exports</td>\n",
       "    </tr>\n",
       "    <tr>\n",
       "      <th>5</th>\n",
       "      <td>NaN</td>\n",
       "    </tr>\n",
       "    <tr>\n",
       "      <th>6</th>\n",
       "      <td>Both Imports &amp; Exports</td>\n",
       "    </tr>\n",
       "    <tr>\n",
       "      <th>7</th>\n",
       "      <td>NaN</td>\n",
       "    </tr>\n",
       "    <tr>\n",
       "      <th>8</th>\n",
       "      <td>NaN</td>\n",
       "    </tr>\n",
       "    <tr>\n",
       "      <th>9</th>\n",
       "      <td>NaN</td>\n",
       "    </tr>\n",
       "  </tbody>\n",
       "</table>\n",
       "</div>"
      ],
      "text/plain": [
       "     Import/Export Status\n",
       "0                     NaN\n",
       "1                     NaN\n",
       "2                     NaN\n",
       "3                     NaN\n",
       "4                 Exports\n",
       "5                     NaN\n",
       "6  Both Imports & Exports\n",
       "7                     NaN\n",
       "8                     NaN\n",
       "9                     NaN"
      ]
     },
     "execution_count": 21,
     "metadata": {},
     "output_type": "execute_result"
    }
   ],
   "source": [
    "df1 = df[missing_cf]\n",
    "df1.head(10)"
   ]
  },
  {
   "cell_type": "code",
   "execution_count": 24,
   "id": "67ba0de7",
   "metadata": {},
   "outputs": [
    {
     "data": {
      "text/html": [
       "<div>\n",
       "<style scoped>\n",
       "    .dataframe tbody tr th:only-of-type {\n",
       "        vertical-align: middle;\n",
       "    }\n",
       "\n",
       "    .dataframe tbody tr th {\n",
       "        vertical-align: top;\n",
       "    }\n",
       "\n",
       "    .dataframe thead th {\n",
       "        text-align: right;\n",
       "    }\n",
       "</style>\n",
       "<table border=\"1\" class=\"dataframe\">\n",
       "  <thead>\n",
       "    <tr style=\"text-align: right;\">\n",
       "      <th></th>\n",
       "      <th>LATITUDE</th>\n",
       "      <th>LONGITUDE</th>\n",
       "      <th>AccountID</th>\n",
       "      <th>Company</th>\n",
       "      <th>SIC Code</th>\n",
       "      <th>Industry</th>\n",
       "      <th>8-Digit SIC Code</th>\n",
       "      <th>8-Digit SIC Description</th>\n",
       "      <th>Year Found</th>\n",
       "      <th>Entity Type</th>\n",
       "      <th>...</th>\n",
       "      <th>Employees (Global Ultimate Total)</th>\n",
       "      <th>Sales (Domestic Ultimate Total USD)</th>\n",
       "      <th>Sales (Global Ultimate Total USD)</th>\n",
       "      <th>Import/Export Status</th>\n",
       "      <th>Fiscal Year End</th>\n",
       "      <th>Global Ultimate Company</th>\n",
       "      <th>Global Ultimate Country</th>\n",
       "      <th>Domestic Ultimate Company</th>\n",
       "      <th>Is Domestic Ultimate</th>\n",
       "      <th>Is Global Ultimate</th>\n",
       "    </tr>\n",
       "  </thead>\n",
       "  <tbody>\n",
       "    <tr>\n",
       "      <th>0</th>\n",
       "      <td>1.285495</td>\n",
       "      <td>103.843852</td>\n",
       "      <td>LAKB2BID4559214</td>\n",
       "      <td>FRANK CONSULTING SERVICES PRIVATE LIMITED</td>\n",
       "      <td>7361.0</td>\n",
       "      <td>Employment Agencies</td>\n",
       "      <td>73610000.0</td>\n",
       "      <td>Employment agencies</td>\n",
       "      <td>2020.0</td>\n",
       "      <td>Subsidiary</td>\n",
       "      <td>...</td>\n",
       "      <td>NaN</td>\n",
       "      <td>2.209224e+06</td>\n",
       "      <td>4.637871e+06</td>\n",
       "      <td>NaN</td>\n",
       "      <td>NaN</td>\n",
       "      <td>FINDERS HOLDCO LIMITED</td>\n",
       "      <td>United Kingdom</td>\n",
       "      <td>FRANK RECRUITMENT GROUP PRIVATE LTD.</td>\n",
       "      <td>0.0</td>\n",
       "      <td>0.0</td>\n",
       "    </tr>\n",
       "    <tr>\n",
       "      <th>1</th>\n",
       "      <td>1.291294</td>\n",
       "      <td>103.827476</td>\n",
       "      <td>LAKB2BID7610849</td>\n",
       "      <td>NEW DESERT ORCHID SHIPPING PTE. LTD.</td>\n",
       "      <td>4449.0</td>\n",
       "      <td>Water Transportation of Freight, Not Elsewhere...</td>\n",
       "      <td>44490000.0</td>\n",
       "      <td>Water transportation of freight</td>\n",
       "      <td>2015.0</td>\n",
       "      <td>Subsidiary</td>\n",
       "      <td>...</td>\n",
       "      <td>100.0</td>\n",
       "      <td>7.093536e+09</td>\n",
       "      <td>7.093536e+09</td>\n",
       "      <td>NaN</td>\n",
       "      <td>NaN</td>\n",
       "      <td>PETREDEC PTE. LIMITED</td>\n",
       "      <td>Singapore</td>\n",
       "      <td>NaN</td>\n",
       "      <td>0.0</td>\n",
       "      <td>0.0</td>\n",
       "    </tr>\n",
       "    <tr>\n",
       "      <th>2</th>\n",
       "      <td>1.300144</td>\n",
       "      <td>103.857517</td>\n",
       "      <td>LAKB2BID5461679</td>\n",
       "      <td>2MBAO BIOCELLBANK PTE. LTD.</td>\n",
       "      <td>6719.0</td>\n",
       "      <td>Offices of Holding Companies, Not Elsewhere Cl...</td>\n",
       "      <td>67190000.0</td>\n",
       "      <td>Holding companies, nec</td>\n",
       "      <td>1993.0</td>\n",
       "      <td>Subsidiary</td>\n",
       "      <td>...</td>\n",
       "      <td>4.0</td>\n",
       "      <td>1.026308e+06</td>\n",
       "      <td>1.026308e+06</td>\n",
       "      <td>NaN</td>\n",
       "      <td>NaN</td>\n",
       "      <td>MADISON LIGHTERS AND WATCHES CO LTD</td>\n",
       "      <td>Hong Kong SAR</td>\n",
       "      <td>2MBAO BIOCELLBANK PTE. LTD.</td>\n",
       "      <td>1.0</td>\n",
       "      <td>0.0</td>\n",
       "    </tr>\n",
       "    <tr>\n",
       "      <th>3</th>\n",
       "      <td>1.300785</td>\n",
       "      <td>103.791263</td>\n",
       "      <td>LAKB2BID5088529</td>\n",
       "      <td>NEWBLOOM PTE. LTD.</td>\n",
       "      <td>6719.0</td>\n",
       "      <td>Offices of Holding Companies, Not Elsewhere Cl...</td>\n",
       "      <td>67190000.0</td>\n",
       "      <td>Holding companies, nec</td>\n",
       "      <td>2006.0</td>\n",
       "      <td>Subsidiary</td>\n",
       "      <td>...</td>\n",
       "      <td>100.0</td>\n",
       "      <td>7.339898e+10</td>\n",
       "      <td>7.339898e+10</td>\n",
       "      <td>NaN</td>\n",
       "      <td>NaN</td>\n",
       "      <td>WILMAR INTERNATIONAL LIMITED</td>\n",
       "      <td>Singapore</td>\n",
       "      <td>WILMAR INTERNATIONAL LIMITED</td>\n",
       "      <td>0.0</td>\n",
       "      <td>0.0</td>\n",
       "    </tr>\n",
       "    <tr>\n",
       "      <th>4</th>\n",
       "      <td>1.298759</td>\n",
       "      <td>103.859430</td>\n",
       "      <td>LAKB2BID1268831</td>\n",
       "      <td>ASIA GREEN CAPITAL PTE. LTD.</td>\n",
       "      <td>6719.0</td>\n",
       "      <td>Offices of Holding Companies, Not Elsewhere Cl...</td>\n",
       "      <td>67190000.0</td>\n",
       "      <td>Holding companies, nec</td>\n",
       "      <td>2006.0</td>\n",
       "      <td>Parent</td>\n",
       "      <td>...</td>\n",
       "      <td>4.0</td>\n",
       "      <td>4.322130e+05</td>\n",
       "      <td>4.322130e+05</td>\n",
       "      <td>Exports</td>\n",
       "      <td>NaN</td>\n",
       "      <td>ASIA GREEN CAPITAL PTE. LTD.</td>\n",
       "      <td>Singapore</td>\n",
       "      <td>ASIA GREEN CAPITAL PTE. LTD.</td>\n",
       "      <td>1.0</td>\n",
       "      <td>1.0</td>\n",
       "    </tr>\n",
       "    <tr>\n",
       "      <th>...</th>\n",
       "      <td>...</td>\n",
       "      <td>...</td>\n",
       "      <td>...</td>\n",
       "      <td>...</td>\n",
       "      <td>...</td>\n",
       "      <td>...</td>\n",
       "      <td>...</td>\n",
       "      <td>...</td>\n",
       "      <td>...</td>\n",
       "      <td>...</td>\n",
       "      <td>...</td>\n",
       "      <td>...</td>\n",
       "      <td>...</td>\n",
       "      <td>...</td>\n",
       "      <td>...</td>\n",
       "      <td>...</td>\n",
       "      <td>...</td>\n",
       "      <td>...</td>\n",
       "      <td>...</td>\n",
       "      <td>...</td>\n",
       "      <td>...</td>\n",
       "    </tr>\n",
       "    <tr>\n",
       "      <th>29177</th>\n",
       "      <td>1.355309</td>\n",
       "      <td>103.887857</td>\n",
       "      <td>LAKB2BID5423564</td>\n",
       "      <td>DYSTAR GLOBAL HOLDINGS (SINGAPORE) PTE. LTD.</td>\n",
       "      <td>6719.0</td>\n",
       "      <td>Offices of Holding Companies, Not Elsewhere Cl...</td>\n",
       "      <td>67199901.0</td>\n",
       "      <td>Investment holding companies, except banks</td>\n",
       "      <td>2009.0</td>\n",
       "      <td>Subsidiary</td>\n",
       "      <td>...</td>\n",
       "      <td>6615.0</td>\n",
       "      <td>2.949122e+06</td>\n",
       "      <td>2.943975e+09</td>\n",
       "      <td>NaN</td>\n",
       "      <td>2020-12-31T05:00:00Z</td>\n",
       "      <td>Zhejiang Longsheng Group Co., Ltd.</td>\n",
       "      <td>China</td>\n",
       "      <td>DYSTAR GLOBAL HOLDINGS (SINGAPORE) PTE. LTD.</td>\n",
       "      <td>1.0</td>\n",
       "      <td>0.0</td>\n",
       "    </tr>\n",
       "    <tr>\n",
       "      <th>29178</th>\n",
       "      <td>1.319605</td>\n",
       "      <td>103.898298</td>\n",
       "      <td>LAKB2BID6196188</td>\n",
       "      <td>ORTUS HOLDINGS LTD.</td>\n",
       "      <td>6719.0</td>\n",
       "      <td>Offices of Holding Companies, Not Elsewhere Cl...</td>\n",
       "      <td>67190000.0</td>\n",
       "      <td>Holding companies, nec</td>\n",
       "      <td>2000.0</td>\n",
       "      <td>Independent</td>\n",
       "      <td>...</td>\n",
       "      <td>4.0</td>\n",
       "      <td>1.026308e+06</td>\n",
       "      <td>1.026308e+06</td>\n",
       "      <td>NaN</td>\n",
       "      <td>NaN</td>\n",
       "      <td>NaN</td>\n",
       "      <td>NaN</td>\n",
       "      <td>NaN</td>\n",
       "      <td>0.0</td>\n",
       "      <td>0.0</td>\n",
       "    </tr>\n",
       "    <tr>\n",
       "      <th>29179</th>\n",
       "      <td>1.316363</td>\n",
       "      <td>103.924303</td>\n",
       "      <td>LAKB2BID6100985</td>\n",
       "      <td>ABRDN ASIA LIMITED</td>\n",
       "      <td>6726.0</td>\n",
       "      <td>Unit Investment Trusts, Face-Amount Certificat...</td>\n",
       "      <td>67269905.0</td>\n",
       "      <td>Management investment funds, closed-end</td>\n",
       "      <td>1991.0</td>\n",
       "      <td>Subsidiary</td>\n",
       "      <td>...</td>\n",
       "      <td>4.0</td>\n",
       "      <td>2.289731e+08</td>\n",
       "      <td>4.114318e+08</td>\n",
       "      <td>Exports</td>\n",
       "      <td>2021-12-31T05:00:00Z</td>\n",
       "      <td>ABRDN HOLDINGS LIMITED</td>\n",
       "      <td>United Kingdom</td>\n",
       "      <td>ABRDN ASIA LIMITED</td>\n",
       "      <td>1.0</td>\n",
       "      <td>0.0</td>\n",
       "    </tr>\n",
       "    <tr>\n",
       "      <th>29180</th>\n",
       "      <td>1.295595</td>\n",
       "      <td>103.858968</td>\n",
       "      <td>LAKB2BID5144338</td>\n",
       "      <td>FANSIPAN HOLDINGS PTE. LTD.</td>\n",
       "      <td>6719.0</td>\n",
       "      <td>Offices of Holding Companies, Not Elsewhere Cl...</td>\n",
       "      <td>67190000.0</td>\n",
       "      <td>Holding companies, nec</td>\n",
       "      <td>2018.0</td>\n",
       "      <td>Subsidiary</td>\n",
       "      <td>...</td>\n",
       "      <td>4.0</td>\n",
       "      <td>1.026308e+06</td>\n",
       "      <td>1.026308e+06</td>\n",
       "      <td>NaN</td>\n",
       "      <td>NaN</td>\n",
       "      <td>65EP INVESTMENT I PTE. LTD.</td>\n",
       "      <td>Singapore</td>\n",
       "      <td>65EP INVESTMENT I PTE. LTD.</td>\n",
       "      <td>0.0</td>\n",
       "      <td>0.0</td>\n",
       "    </tr>\n",
       "    <tr>\n",
       "      <th>29181</th>\n",
       "      <td>1.311769</td>\n",
       "      <td>103.801710</td>\n",
       "      <td>LAKB2BID6700434</td>\n",
       "      <td>WHOLESOME FOOD PEOPLE PTE. LTD.</td>\n",
       "      <td>5099.0</td>\n",
       "      <td>Durable Goods, Not Elsewhere Classified</td>\n",
       "      <td>50990000.0</td>\n",
       "      <td>Durable goods, nec</td>\n",
       "      <td>2018.0</td>\n",
       "      <td>Subsidiary</td>\n",
       "      <td>...</td>\n",
       "      <td>4.0</td>\n",
       "      <td>1.026308e+06</td>\n",
       "      <td>1.026308e+06</td>\n",
       "      <td>NaN</td>\n",
       "      <td>NaN</td>\n",
       "      <td>TRUSSCO HOLDINGS PTE. LTD.</td>\n",
       "      <td>Singapore</td>\n",
       "      <td>TRUSSCO HOLDINGS PTE. LTD.</td>\n",
       "      <td>0.0</td>\n",
       "      <td>0.0</td>\n",
       "    </tr>\n",
       "  </tbody>\n",
       "</table>\n",
       "<p>29182 rows × 28 columns</p>\n",
       "</div>"
      ],
      "text/plain": [
       "       LATITUDE   LONGITUDE        AccountID  \\\n",
       "0      1.285495  103.843852  LAKB2BID4559214   \n",
       "1      1.291294  103.827476  LAKB2BID7610849   \n",
       "2      1.300144  103.857517  LAKB2BID5461679   \n",
       "3      1.300785  103.791263  LAKB2BID5088529   \n",
       "4      1.298759  103.859430  LAKB2BID1268831   \n",
       "...         ...         ...              ...   \n",
       "29177  1.355309  103.887857  LAKB2BID5423564   \n",
       "29178  1.319605  103.898298  LAKB2BID6196188   \n",
       "29179  1.316363  103.924303  LAKB2BID6100985   \n",
       "29180  1.295595  103.858968  LAKB2BID5144338   \n",
       "29181  1.311769  103.801710  LAKB2BID6700434   \n",
       "\n",
       "                                            Company  SIC Code  \\\n",
       "0         FRANK CONSULTING SERVICES PRIVATE LIMITED    7361.0   \n",
       "1              NEW DESERT ORCHID SHIPPING PTE. LTD.    4449.0   \n",
       "2                       2MBAO BIOCELLBANK PTE. LTD.    6719.0   \n",
       "3                                NEWBLOOM PTE. LTD.    6719.0   \n",
       "4                      ASIA GREEN CAPITAL PTE. LTD.    6719.0   \n",
       "...                                             ...       ...   \n",
       "29177  DYSTAR GLOBAL HOLDINGS (SINGAPORE) PTE. LTD.    6719.0   \n",
       "29178                           ORTUS HOLDINGS LTD.    6719.0   \n",
       "29179                            ABRDN ASIA LIMITED    6726.0   \n",
       "29180                   FANSIPAN HOLDINGS PTE. LTD.    6719.0   \n",
       "29181               WHOLESOME FOOD PEOPLE PTE. LTD.    5099.0   \n",
       "\n",
       "                                                Industry  8-Digit SIC Code  \\\n",
       "0                                    Employment Agencies        73610000.0   \n",
       "1      Water Transportation of Freight, Not Elsewhere...        44490000.0   \n",
       "2      Offices of Holding Companies, Not Elsewhere Cl...        67190000.0   \n",
       "3      Offices of Holding Companies, Not Elsewhere Cl...        67190000.0   \n",
       "4      Offices of Holding Companies, Not Elsewhere Cl...        67190000.0   \n",
       "...                                                  ...               ...   \n",
       "29177  Offices of Holding Companies, Not Elsewhere Cl...        67199901.0   \n",
       "29178  Offices of Holding Companies, Not Elsewhere Cl...        67190000.0   \n",
       "29179  Unit Investment Trusts, Face-Amount Certificat...        67269905.0   \n",
       "29180  Offices of Holding Companies, Not Elsewhere Cl...        67190000.0   \n",
       "29181            Durable Goods, Not Elsewhere Classified        50990000.0   \n",
       "\n",
       "                          8-Digit SIC Description  Year Found  Entity Type  \\\n",
       "0                             Employment agencies      2020.0   Subsidiary   \n",
       "1                 Water transportation of freight      2015.0   Subsidiary   \n",
       "2                          Holding companies, nec      1993.0   Subsidiary   \n",
       "3                          Holding companies, nec      2006.0   Subsidiary   \n",
       "4                          Holding companies, nec      2006.0       Parent   \n",
       "...                                           ...         ...          ...   \n",
       "29177  Investment holding companies, except banks      2009.0   Subsidiary   \n",
       "29178                      Holding companies, nec      2000.0  Independent   \n",
       "29179     Management investment funds, closed-end      1991.0   Subsidiary   \n",
       "29180                      Holding companies, nec      2018.0   Subsidiary   \n",
       "29181                          Durable goods, nec      2018.0   Subsidiary   \n",
       "\n",
       "       ... Employees (Global Ultimate Total)  \\\n",
       "0      ...                               NaN   \n",
       "1      ...                             100.0   \n",
       "2      ...                               4.0   \n",
       "3      ...                             100.0   \n",
       "4      ...                               4.0   \n",
       "...    ...                               ...   \n",
       "29177  ...                            6615.0   \n",
       "29178  ...                               4.0   \n",
       "29179  ...                               4.0   \n",
       "29180  ...                               4.0   \n",
       "29181  ...                               4.0   \n",
       "\n",
       "      Sales (Domestic Ultimate Total USD) Sales (Global Ultimate Total USD)  \\\n",
       "0                            2.209224e+06                      4.637871e+06   \n",
       "1                            7.093536e+09                      7.093536e+09   \n",
       "2                            1.026308e+06                      1.026308e+06   \n",
       "3                            7.339898e+10                      7.339898e+10   \n",
       "4                            4.322130e+05                      4.322130e+05   \n",
       "...                                   ...                               ...   \n",
       "29177                        2.949122e+06                      2.943975e+09   \n",
       "29178                        1.026308e+06                      1.026308e+06   \n",
       "29179                        2.289731e+08                      4.114318e+08   \n",
       "29180                        1.026308e+06                      1.026308e+06   \n",
       "29181                        1.026308e+06                      1.026308e+06   \n",
       "\n",
       "      Import/Export Status       Fiscal Year End  \\\n",
       "0                      NaN                   NaN   \n",
       "1                      NaN                   NaN   \n",
       "2                      NaN                   NaN   \n",
       "3                      NaN                   NaN   \n",
       "4                  Exports                   NaN   \n",
       "...                    ...                   ...   \n",
       "29177                  NaN  2020-12-31T05:00:00Z   \n",
       "29178                  NaN                   NaN   \n",
       "29179              Exports  2021-12-31T05:00:00Z   \n",
       "29180                  NaN                   NaN   \n",
       "29181                  NaN                   NaN   \n",
       "\n",
       "                   Global Ultimate Company  Global Ultimate Country  \\\n",
       "0                   FINDERS HOLDCO LIMITED           United Kingdom   \n",
       "1                    PETREDEC PTE. LIMITED                Singapore   \n",
       "2      MADISON LIGHTERS AND WATCHES CO LTD            Hong Kong SAR   \n",
       "3             WILMAR INTERNATIONAL LIMITED                Singapore   \n",
       "4             ASIA GREEN CAPITAL PTE. LTD.                Singapore   \n",
       "...                                    ...                      ...   \n",
       "29177   Zhejiang Longsheng Group Co., Ltd.                    China   \n",
       "29178                                  NaN                      NaN   \n",
       "29179               ABRDN HOLDINGS LIMITED           United Kingdom   \n",
       "29180          65EP INVESTMENT I PTE. LTD.                Singapore   \n",
       "29181           TRUSSCO HOLDINGS PTE. LTD.                Singapore   \n",
       "\n",
       "                          Domestic Ultimate Company  Is Domestic Ultimate  \\\n",
       "0              FRANK RECRUITMENT GROUP PRIVATE LTD.                   0.0   \n",
       "1                                               NaN                   0.0   \n",
       "2                       2MBAO BIOCELLBANK PTE. LTD.                   1.0   \n",
       "3                      WILMAR INTERNATIONAL LIMITED                   0.0   \n",
       "4                      ASIA GREEN CAPITAL PTE. LTD.                   1.0   \n",
       "...                                             ...                   ...   \n",
       "29177  DYSTAR GLOBAL HOLDINGS (SINGAPORE) PTE. LTD.                   1.0   \n",
       "29178                                           NaN                   0.0   \n",
       "29179                            ABRDN ASIA LIMITED                   1.0   \n",
       "29180                   65EP INVESTMENT I PTE. LTD.                   0.0   \n",
       "29181                    TRUSSCO HOLDINGS PTE. LTD.                   0.0   \n",
       "\n",
       "       Is Global Ultimate  \n",
       "0                     0.0  \n",
       "1                     0.0  \n",
       "2                     0.0  \n",
       "3                     0.0  \n",
       "4                     1.0  \n",
       "...                   ...  \n",
       "29177                 0.0  \n",
       "29178                 0.0  \n",
       "29179                 0.0  \n",
       "29180                 0.0  \n",
       "29181                 0.0  \n",
       "\n",
       "[29182 rows x 28 columns]"
      ]
     },
     "execution_count": 24,
     "metadata": {},
     "output_type": "execute_result"
    }
   ],
   "source": [
    "df.interpolate()"
   ]
  },
  {
   "cell_type": "code",
   "execution_count": null,
   "id": "85999787",
   "metadata": {},
   "outputs": [],
   "source": []
  }
 ],
 "metadata": {
  "kernelspec": {
   "display_name": "Python 3 (ipykernel)",
   "language": "python",
   "name": "python3"
  },
  "language_info": {
   "codemirror_mode": {
    "name": "ipython",
    "version": 3
   },
   "file_extension": ".py",
   "mimetype": "text/x-python",
   "name": "python",
   "nbconvert_exporter": "python",
   "pygments_lexer": "ipython3",
   "version": "3.11.5"
  }
 },
 "nbformat": 4,
 "nbformat_minor": 5
}
